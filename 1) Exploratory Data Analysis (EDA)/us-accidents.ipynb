{
 "cells": [
  {
   "cell_type": "markdown",
   "id": "45fc0d3b",
   "metadata": {
    "papermill": {
     "duration": 0.013326,
     "end_time": "2025-03-17T00:43:46.470763",
     "exception": false,
     "start_time": "2025-03-17T00:43:46.457437",
     "status": "completed"
    },
    "tags": []
   },
   "source": [
    "## Analyzing the dataset ( just looking around )"
   ]
  },
  {
   "cell_type": "markdown",
   "id": "8aa9609c",
   "metadata": {
    "papermill": {
     "duration": 0.011448,
     "end_time": "2025-03-17T00:43:46.494348",
     "exception": false,
     "start_time": "2025-03-17T00:43:46.482900",
     "status": "completed"
    },
    "tags": []
   },
   "source": [
    "First this is the Link from kaggle direct to the dataset : https://www.kaggle.com/datasets/sobhanmoosavi/us-accidents\n",
    "\n",
    "This is a countrywide car accident dataset that covers 49 states of the USA. The accident data were collected from February 2016 to March 2023, using multiple APIs that provide streaming traffic incident (or event) data. These APIs broadcast traffic data captured by various entities, including the US and state departments of transportation, law enforcement agencies, traffic cameras, and traffic sensors within the road networks. The dataset currently contains approximately 7.7 million accident records."
   ]
  },
  {
   "cell_type": "markdown",
   "id": "9b8e2ade",
   "metadata": {
    "papermill": {
     "duration": 0.011392,
     "end_time": "2025-03-17T00:43:46.517467",
     "exception": false,
     "start_time": "2025-03-17T00:43:46.506075",
     "status": "completed"
    },
    "tags": []
   },
   "source": [
    "## Ask & Answer Questions related to the dataset\n",
    "\n",
    "- What are the most common accident locations in the US?\n",
    "- How does accident severity vary by weather conditions?\n",
    "- What time of day has the highest number of accidents?\n",
    "- Which states experience the most accidents?\n",
    "- How does visibility affect accident severity?\n",
    "- Is there a correlation between wind speed and accident severity?\n",
    "  \n",
    "I will answer them below"
   ]
  },
  {
   "cell_type": "markdown",
   "id": "f5e28d27",
   "metadata": {
    "papermill": {
     "duration": 0.011463,
     "end_time": "2025-03-17T00:43:46.541027",
     "exception": false,
     "start_time": "2025-03-17T00:43:46.529564",
     "status": "completed"
    },
    "tags": []
   },
   "source": [
    "## Data Preperation & Cleaning\n",
    "- load the file using pandas\n",
    "- look at some info ( columns and rows )\n",
    "- fix any missing or incorrect valus"
   ]
  },
  {
   "cell_type": "code",
   "execution_count": 1,
   "id": "a95ee169",
   "metadata": {
    "execution": {
     "iopub.execute_input": "2025-03-17T00:43:46.566257Z",
     "iopub.status.busy": "2025-03-17T00:43:46.565894Z",
     "iopub.status.idle": "2025-03-17T00:43:46.571954Z",
     "shell.execute_reply": "2025-03-17T00:43:46.570763Z"
    },
    "papermill": {
     "duration": 0.020636,
     "end_time": "2025-03-17T00:43:46.573704",
     "exception": false,
     "start_time": "2025-03-17T00:43:46.553068",
     "status": "completed"
    },
    "tags": []
   },
   "outputs": [],
   "source": [
    "file_path = '/kaggle/input/us-accidents/US_Accidents_March23.csv'"
   ]
  },
  {
   "cell_type": "code",
   "execution_count": 2,
   "id": "4116c53c",
   "metadata": {
    "execution": {
     "iopub.execute_input": "2025-03-17T00:43:46.599665Z",
     "iopub.status.busy": "2025-03-17T00:43:46.599272Z",
     "iopub.status.idle": "2025-03-17T00:43:47.618099Z",
     "shell.execute_reply": "2025-03-17T00:43:47.616989Z"
    },
    "papermill": {
     "duration": 1.034298,
     "end_time": "2025-03-17T00:43:47.620227",
     "exception": false,
     "start_time": "2025-03-17T00:43:46.585929",
     "status": "completed"
    },
    "tags": []
   },
   "outputs": [],
   "source": [
    "import pandas as pd"
   ]
  },
  {
   "cell_type": "code",
   "execution_count": 3,
   "id": "d0b88bfb",
   "metadata": {
    "execution": {
     "iopub.execute_input": "2025-03-17T00:43:47.645685Z",
     "iopub.status.busy": "2025-03-17T00:43:47.645129Z",
     "iopub.status.idle": "2025-03-17T00:45:52.595875Z",
     "shell.execute_reply": "2025-03-17T00:45:52.594675Z"
    },
    "papermill": {
     "duration": 124.965702,
     "end_time": "2025-03-17T00:45:52.598004",
     "exception": false,
     "start_time": "2025-03-17T00:43:47.632302",
     "status": "completed"
    },
    "tags": []
   },
   "outputs": [],
   "source": [
    "df = pd.read_csv(file_path)"
   ]
  },
  {
   "cell_type": "code",
   "execution_count": 4,
   "id": "59838c3b",
   "metadata": {
    "execution": {
     "iopub.execute_input": "2025-03-17T00:45:52.624949Z",
     "iopub.status.busy": "2025-03-17T00:45:52.624599Z",
     "iopub.status.idle": "2025-03-17T00:45:52.677201Z",
     "shell.execute_reply": "2025-03-17T00:45:52.675815Z"
    },
    "papermill": {
     "duration": 0.067827,
     "end_time": "2025-03-17T00:45:52.678826",
     "exception": false,
     "start_time": "2025-03-17T00:45:52.610999",
     "status": "completed"
    },
    "tags": []
   },
   "outputs": [
    {
     "name": "stderr",
     "output_type": "stream",
     "text": [
      "/usr/local/lib/python3.10/dist-packages/pandas/io/formats/format.py:1458: RuntimeWarning: invalid value encountered in greater\n",
      "  has_large_values = (abs_vals > 1e6).any()\n",
      "/usr/local/lib/python3.10/dist-packages/pandas/io/formats/format.py:1459: RuntimeWarning: invalid value encountered in less\n",
      "  has_small_values = ((abs_vals < 10 ** (-self.digits)) & (abs_vals > 0)).any()\n",
      "/usr/local/lib/python3.10/dist-packages/pandas/io/formats/format.py:1459: RuntimeWarning: invalid value encountered in greater\n",
      "  has_small_values = ((abs_vals < 10 ** (-self.digits)) & (abs_vals > 0)).any()\n",
      "/usr/local/lib/python3.10/dist-packages/pandas/io/formats/format.py:1458: RuntimeWarning: invalid value encountered in greater\n",
      "  has_large_values = (abs_vals > 1e6).any()\n",
      "/usr/local/lib/python3.10/dist-packages/pandas/io/formats/format.py:1459: RuntimeWarning: invalid value encountered in less\n",
      "  has_small_values = ((abs_vals < 10 ** (-self.digits)) & (abs_vals > 0)).any()\n",
      "/usr/local/lib/python3.10/dist-packages/pandas/io/formats/format.py:1459: RuntimeWarning: invalid value encountered in greater\n",
      "  has_small_values = ((abs_vals < 10 ** (-self.digits)) & (abs_vals > 0)).any()\n"
     ]
    },
    {
     "data": {
      "text/html": [
       "<div>\n",
       "<style scoped>\n",
       "    .dataframe tbody tr th:only-of-type {\n",
       "        vertical-align: middle;\n",
       "    }\n",
       "\n",
       "    .dataframe tbody tr th {\n",
       "        vertical-align: top;\n",
       "    }\n",
       "\n",
       "    .dataframe thead th {\n",
       "        text-align: right;\n",
       "    }\n",
       "</style>\n",
       "<table border=\"1\" class=\"dataframe\">\n",
       "  <thead>\n",
       "    <tr style=\"text-align: right;\">\n",
       "      <th></th>\n",
       "      <th>ID</th>\n",
       "      <th>Source</th>\n",
       "      <th>Severity</th>\n",
       "      <th>Start_Time</th>\n",
       "      <th>End_Time</th>\n",
       "      <th>Start_Lat</th>\n",
       "      <th>Start_Lng</th>\n",
       "      <th>End_Lat</th>\n",
       "      <th>End_Lng</th>\n",
       "      <th>Distance(mi)</th>\n",
       "      <th>...</th>\n",
       "      <th>Roundabout</th>\n",
       "      <th>Station</th>\n",
       "      <th>Stop</th>\n",
       "      <th>Traffic_Calming</th>\n",
       "      <th>Traffic_Signal</th>\n",
       "      <th>Turning_Loop</th>\n",
       "      <th>Sunrise_Sunset</th>\n",
       "      <th>Civil_Twilight</th>\n",
       "      <th>Nautical_Twilight</th>\n",
       "      <th>Astronomical_Twilight</th>\n",
       "    </tr>\n",
       "  </thead>\n",
       "  <tbody>\n",
       "    <tr>\n",
       "      <th>0</th>\n",
       "      <td>A-1</td>\n",
       "      <td>Source2</td>\n",
       "      <td>3</td>\n",
       "      <td>2016-02-08 05:46:00</td>\n",
       "      <td>2016-02-08 11:00:00</td>\n",
       "      <td>39.865147</td>\n",
       "      <td>-84.058723</td>\n",
       "      <td>NaN</td>\n",
       "      <td>NaN</td>\n",
       "      <td>0.01</td>\n",
       "      <td>...</td>\n",
       "      <td>False</td>\n",
       "      <td>False</td>\n",
       "      <td>False</td>\n",
       "      <td>False</td>\n",
       "      <td>False</td>\n",
       "      <td>False</td>\n",
       "      <td>Night</td>\n",
       "      <td>Night</td>\n",
       "      <td>Night</td>\n",
       "      <td>Night</td>\n",
       "    </tr>\n",
       "    <tr>\n",
       "      <th>1</th>\n",
       "      <td>A-2</td>\n",
       "      <td>Source2</td>\n",
       "      <td>2</td>\n",
       "      <td>2016-02-08 06:07:59</td>\n",
       "      <td>2016-02-08 06:37:59</td>\n",
       "      <td>39.928059</td>\n",
       "      <td>-82.831184</td>\n",
       "      <td>NaN</td>\n",
       "      <td>NaN</td>\n",
       "      <td>0.01</td>\n",
       "      <td>...</td>\n",
       "      <td>False</td>\n",
       "      <td>False</td>\n",
       "      <td>False</td>\n",
       "      <td>False</td>\n",
       "      <td>False</td>\n",
       "      <td>False</td>\n",
       "      <td>Night</td>\n",
       "      <td>Night</td>\n",
       "      <td>Night</td>\n",
       "      <td>Day</td>\n",
       "    </tr>\n",
       "    <tr>\n",
       "      <th>2</th>\n",
       "      <td>A-3</td>\n",
       "      <td>Source2</td>\n",
       "      <td>2</td>\n",
       "      <td>2016-02-08 06:49:27</td>\n",
       "      <td>2016-02-08 07:19:27</td>\n",
       "      <td>39.063148</td>\n",
       "      <td>-84.032608</td>\n",
       "      <td>NaN</td>\n",
       "      <td>NaN</td>\n",
       "      <td>0.01</td>\n",
       "      <td>...</td>\n",
       "      <td>False</td>\n",
       "      <td>False</td>\n",
       "      <td>False</td>\n",
       "      <td>False</td>\n",
       "      <td>True</td>\n",
       "      <td>False</td>\n",
       "      <td>Night</td>\n",
       "      <td>Night</td>\n",
       "      <td>Day</td>\n",
       "      <td>Day</td>\n",
       "    </tr>\n",
       "    <tr>\n",
       "      <th>3</th>\n",
       "      <td>A-4</td>\n",
       "      <td>Source2</td>\n",
       "      <td>3</td>\n",
       "      <td>2016-02-08 07:23:34</td>\n",
       "      <td>2016-02-08 07:53:34</td>\n",
       "      <td>39.747753</td>\n",
       "      <td>-84.205582</td>\n",
       "      <td>NaN</td>\n",
       "      <td>NaN</td>\n",
       "      <td>0.01</td>\n",
       "      <td>...</td>\n",
       "      <td>False</td>\n",
       "      <td>False</td>\n",
       "      <td>False</td>\n",
       "      <td>False</td>\n",
       "      <td>False</td>\n",
       "      <td>False</td>\n",
       "      <td>Night</td>\n",
       "      <td>Day</td>\n",
       "      <td>Day</td>\n",
       "      <td>Day</td>\n",
       "    </tr>\n",
       "    <tr>\n",
       "      <th>4</th>\n",
       "      <td>A-5</td>\n",
       "      <td>Source2</td>\n",
       "      <td>2</td>\n",
       "      <td>2016-02-08 07:39:07</td>\n",
       "      <td>2016-02-08 08:09:07</td>\n",
       "      <td>39.627781</td>\n",
       "      <td>-84.188354</td>\n",
       "      <td>NaN</td>\n",
       "      <td>NaN</td>\n",
       "      <td>0.01</td>\n",
       "      <td>...</td>\n",
       "      <td>False</td>\n",
       "      <td>False</td>\n",
       "      <td>False</td>\n",
       "      <td>False</td>\n",
       "      <td>True</td>\n",
       "      <td>False</td>\n",
       "      <td>Day</td>\n",
       "      <td>Day</td>\n",
       "      <td>Day</td>\n",
       "      <td>Day</td>\n",
       "    </tr>\n",
       "  </tbody>\n",
       "</table>\n",
       "<p>5 rows × 46 columns</p>\n",
       "</div>"
      ],
      "text/plain": [
       "    ID   Source  Severity           Start_Time             End_Time  \\\n",
       "0  A-1  Source2         3  2016-02-08 05:46:00  2016-02-08 11:00:00   \n",
       "1  A-2  Source2         2  2016-02-08 06:07:59  2016-02-08 06:37:59   \n",
       "2  A-3  Source2         2  2016-02-08 06:49:27  2016-02-08 07:19:27   \n",
       "3  A-4  Source2         3  2016-02-08 07:23:34  2016-02-08 07:53:34   \n",
       "4  A-5  Source2         2  2016-02-08 07:39:07  2016-02-08 08:09:07   \n",
       "\n",
       "   Start_Lat  Start_Lng  End_Lat  End_Lng  Distance(mi)  ... Roundabout  \\\n",
       "0  39.865147 -84.058723      NaN      NaN          0.01  ...      False   \n",
       "1  39.928059 -82.831184      NaN      NaN          0.01  ...      False   \n",
       "2  39.063148 -84.032608      NaN      NaN          0.01  ...      False   \n",
       "3  39.747753 -84.205582      NaN      NaN          0.01  ...      False   \n",
       "4  39.627781 -84.188354      NaN      NaN          0.01  ...      False   \n",
       "\n",
       "  Station   Stop Traffic_Calming Traffic_Signal Turning_Loop Sunrise_Sunset  \\\n",
       "0   False  False           False          False        False          Night   \n",
       "1   False  False           False          False        False          Night   \n",
       "2   False  False           False           True        False          Night   \n",
       "3   False  False           False          False        False          Night   \n",
       "4   False  False           False           True        False            Day   \n",
       "\n",
       "  Civil_Twilight Nautical_Twilight Astronomical_Twilight  \n",
       "0          Night             Night                 Night  \n",
       "1          Night             Night                   Day  \n",
       "2          Night               Day                   Day  \n",
       "3            Day               Day                   Day  \n",
       "4            Day               Day                   Day  \n",
       "\n",
       "[5 rows x 46 columns]"
      ]
     },
     "execution_count": 4,
     "metadata": {},
     "output_type": "execute_result"
    }
   ],
   "source": [
    "df.head()"
   ]
  },
  {
   "cell_type": "code",
   "execution_count": 5,
   "id": "168cf46c",
   "metadata": {
    "execution": {
     "iopub.execute_input": "2025-03-17T00:45:52.705010Z",
     "iopub.status.busy": "2025-03-17T00:45:52.704621Z",
     "iopub.status.idle": "2025-03-17T00:45:56.881193Z",
     "shell.execute_reply": "2025-03-17T00:45:56.879932Z"
    },
    "papermill": {
     "duration": 4.192016,
     "end_time": "2025-03-17T00:45:56.883231",
     "exception": false,
     "start_time": "2025-03-17T00:45:52.691215",
     "status": "completed"
    },
    "tags": []
   },
   "outputs": [
    {
     "data": {
      "text/html": [
       "<div>\n",
       "<style scoped>\n",
       "    .dataframe tbody tr th:only-of-type {\n",
       "        vertical-align: middle;\n",
       "    }\n",
       "\n",
       "    .dataframe tbody tr th {\n",
       "        vertical-align: top;\n",
       "    }\n",
       "\n",
       "    .dataframe thead th {\n",
       "        text-align: right;\n",
       "    }\n",
       "</style>\n",
       "<table border=\"1\" class=\"dataframe\">\n",
       "  <thead>\n",
       "    <tr style=\"text-align: right;\">\n",
       "      <th></th>\n",
       "      <th>Severity</th>\n",
       "      <th>Start_Lat</th>\n",
       "      <th>Start_Lng</th>\n",
       "      <th>End_Lat</th>\n",
       "      <th>End_Lng</th>\n",
       "      <th>Distance(mi)</th>\n",
       "      <th>Temperature(F)</th>\n",
       "      <th>Wind_Chill(F)</th>\n",
       "      <th>Humidity(%)</th>\n",
       "      <th>Pressure(in)</th>\n",
       "      <th>Visibility(mi)</th>\n",
       "      <th>Wind_Speed(mph)</th>\n",
       "      <th>Precipitation(in)</th>\n",
       "    </tr>\n",
       "  </thead>\n",
       "  <tbody>\n",
       "    <tr>\n",
       "      <th>count</th>\n",
       "      <td>7.728394e+06</td>\n",
       "      <td>7.728394e+06</td>\n",
       "      <td>7.728394e+06</td>\n",
       "      <td>4.325632e+06</td>\n",
       "      <td>4.325632e+06</td>\n",
       "      <td>7.728394e+06</td>\n",
       "      <td>7.564541e+06</td>\n",
       "      <td>5.729375e+06</td>\n",
       "      <td>7.554250e+06</td>\n",
       "      <td>7.587715e+06</td>\n",
       "      <td>7.551296e+06</td>\n",
       "      <td>7.157161e+06</td>\n",
       "      <td>5.524808e+06</td>\n",
       "    </tr>\n",
       "    <tr>\n",
       "      <th>mean</th>\n",
       "      <td>2.212384e+00</td>\n",
       "      <td>3.620119e+01</td>\n",
       "      <td>-9.470255e+01</td>\n",
       "      <td>3.626183e+01</td>\n",
       "      <td>-9.572557e+01</td>\n",
       "      <td>5.618423e-01</td>\n",
       "      <td>6.166329e+01</td>\n",
       "      <td>5.825105e+01</td>\n",
       "      <td>6.483104e+01</td>\n",
       "      <td>2.953899e+01</td>\n",
       "      <td>9.090376e+00</td>\n",
       "      <td>7.685490e+00</td>\n",
       "      <td>8.407210e-03</td>\n",
       "    </tr>\n",
       "    <tr>\n",
       "      <th>std</th>\n",
       "      <td>4.875313e-01</td>\n",
       "      <td>5.076079e+00</td>\n",
       "      <td>1.739176e+01</td>\n",
       "      <td>5.272905e+00</td>\n",
       "      <td>1.810793e+01</td>\n",
       "      <td>1.776811e+00</td>\n",
       "      <td>1.901365e+01</td>\n",
       "      <td>2.238983e+01</td>\n",
       "      <td>2.282097e+01</td>\n",
       "      <td>1.006190e+00</td>\n",
       "      <td>2.688316e+00</td>\n",
       "      <td>5.424983e+00</td>\n",
       "      <td>1.102246e-01</td>\n",
       "    </tr>\n",
       "    <tr>\n",
       "      <th>min</th>\n",
       "      <td>1.000000e+00</td>\n",
       "      <td>2.455480e+01</td>\n",
       "      <td>-1.246238e+02</td>\n",
       "      <td>2.456601e+01</td>\n",
       "      <td>-1.245457e+02</td>\n",
       "      <td>0.000000e+00</td>\n",
       "      <td>-8.900000e+01</td>\n",
       "      <td>-8.900000e+01</td>\n",
       "      <td>1.000000e+00</td>\n",
       "      <td>0.000000e+00</td>\n",
       "      <td>0.000000e+00</td>\n",
       "      <td>0.000000e+00</td>\n",
       "      <td>0.000000e+00</td>\n",
       "    </tr>\n",
       "    <tr>\n",
       "      <th>25%</th>\n",
       "      <td>2.000000e+00</td>\n",
       "      <td>3.339963e+01</td>\n",
       "      <td>-1.172194e+02</td>\n",
       "      <td>3.346207e+01</td>\n",
       "      <td>-1.177543e+02</td>\n",
       "      <td>0.000000e+00</td>\n",
       "      <td>4.900000e+01</td>\n",
       "      <td>4.300000e+01</td>\n",
       "      <td>4.800000e+01</td>\n",
       "      <td>2.937000e+01</td>\n",
       "      <td>1.000000e+01</td>\n",
       "      <td>4.600000e+00</td>\n",
       "      <td>0.000000e+00</td>\n",
       "    </tr>\n",
       "    <tr>\n",
       "      <th>50%</th>\n",
       "      <td>2.000000e+00</td>\n",
       "      <td>3.582397e+01</td>\n",
       "      <td>-8.776662e+01</td>\n",
       "      <td>3.618349e+01</td>\n",
       "      <td>-8.802789e+01</td>\n",
       "      <td>3.000000e-02</td>\n",
       "      <td>6.400000e+01</td>\n",
       "      <td>6.200000e+01</td>\n",
       "      <td>6.700000e+01</td>\n",
       "      <td>2.986000e+01</td>\n",
       "      <td>1.000000e+01</td>\n",
       "      <td>7.000000e+00</td>\n",
       "      <td>0.000000e+00</td>\n",
       "    </tr>\n",
       "    <tr>\n",
       "      <th>75%</th>\n",
       "      <td>2.000000e+00</td>\n",
       "      <td>4.008496e+01</td>\n",
       "      <td>-8.035368e+01</td>\n",
       "      <td>4.017892e+01</td>\n",
       "      <td>-8.024709e+01</td>\n",
       "      <td>4.640000e-01</td>\n",
       "      <td>7.600000e+01</td>\n",
       "      <td>7.500000e+01</td>\n",
       "      <td>8.400000e+01</td>\n",
       "      <td>3.003000e+01</td>\n",
       "      <td>1.000000e+01</td>\n",
       "      <td>1.040000e+01</td>\n",
       "      <td>0.000000e+00</td>\n",
       "    </tr>\n",
       "    <tr>\n",
       "      <th>max</th>\n",
       "      <td>4.000000e+00</td>\n",
       "      <td>4.900220e+01</td>\n",
       "      <td>-6.711317e+01</td>\n",
       "      <td>4.907500e+01</td>\n",
       "      <td>-6.710924e+01</td>\n",
       "      <td>4.417500e+02</td>\n",
       "      <td>2.070000e+02</td>\n",
       "      <td>2.070000e+02</td>\n",
       "      <td>1.000000e+02</td>\n",
       "      <td>5.863000e+01</td>\n",
       "      <td>1.400000e+02</td>\n",
       "      <td>1.087000e+03</td>\n",
       "      <td>3.647000e+01</td>\n",
       "    </tr>\n",
       "  </tbody>\n",
       "</table>\n",
       "</div>"
      ],
      "text/plain": [
       "           Severity     Start_Lat     Start_Lng       End_Lat       End_Lng  \\\n",
       "count  7.728394e+06  7.728394e+06  7.728394e+06  4.325632e+06  4.325632e+06   \n",
       "mean   2.212384e+00  3.620119e+01 -9.470255e+01  3.626183e+01 -9.572557e+01   \n",
       "std    4.875313e-01  5.076079e+00  1.739176e+01  5.272905e+00  1.810793e+01   \n",
       "min    1.000000e+00  2.455480e+01 -1.246238e+02  2.456601e+01 -1.245457e+02   \n",
       "25%    2.000000e+00  3.339963e+01 -1.172194e+02  3.346207e+01 -1.177543e+02   \n",
       "50%    2.000000e+00  3.582397e+01 -8.776662e+01  3.618349e+01 -8.802789e+01   \n",
       "75%    2.000000e+00  4.008496e+01 -8.035368e+01  4.017892e+01 -8.024709e+01   \n",
       "max    4.000000e+00  4.900220e+01 -6.711317e+01  4.907500e+01 -6.710924e+01   \n",
       "\n",
       "       Distance(mi)  Temperature(F)  Wind_Chill(F)   Humidity(%)  \\\n",
       "count  7.728394e+06    7.564541e+06   5.729375e+06  7.554250e+06   \n",
       "mean   5.618423e-01    6.166329e+01   5.825105e+01  6.483104e+01   \n",
       "std    1.776811e+00    1.901365e+01   2.238983e+01  2.282097e+01   \n",
       "min    0.000000e+00   -8.900000e+01  -8.900000e+01  1.000000e+00   \n",
       "25%    0.000000e+00    4.900000e+01   4.300000e+01  4.800000e+01   \n",
       "50%    3.000000e-02    6.400000e+01   6.200000e+01  6.700000e+01   \n",
       "75%    4.640000e-01    7.600000e+01   7.500000e+01  8.400000e+01   \n",
       "max    4.417500e+02    2.070000e+02   2.070000e+02  1.000000e+02   \n",
       "\n",
       "       Pressure(in)  Visibility(mi)  Wind_Speed(mph)  Precipitation(in)  \n",
       "count  7.587715e+06    7.551296e+06     7.157161e+06       5.524808e+06  \n",
       "mean   2.953899e+01    9.090376e+00     7.685490e+00       8.407210e-03  \n",
       "std    1.006190e+00    2.688316e+00     5.424983e+00       1.102246e-01  \n",
       "min    0.000000e+00    0.000000e+00     0.000000e+00       0.000000e+00  \n",
       "25%    2.937000e+01    1.000000e+01     4.600000e+00       0.000000e+00  \n",
       "50%    2.986000e+01    1.000000e+01     7.000000e+00       0.000000e+00  \n",
       "75%    3.003000e+01    1.000000e+01     1.040000e+01       0.000000e+00  \n",
       "max    5.863000e+01    1.400000e+02     1.087000e+03       3.647000e+01  "
      ]
     },
     "execution_count": 5,
     "metadata": {},
     "output_type": "execute_result"
    }
   ],
   "source": [
    "df.describe()"
   ]
  },
  {
   "cell_type": "code",
   "execution_count": 6,
   "id": "b5cb2848",
   "metadata": {
    "execution": {
     "iopub.execute_input": "2025-03-17T00:45:56.911713Z",
     "iopub.status.busy": "2025-03-17T00:45:56.911286Z",
     "iopub.status.idle": "2025-03-17T00:45:56.936562Z",
     "shell.execute_reply": "2025-03-17T00:45:56.935001Z"
    },
    "papermill": {
     "duration": 0.042189,
     "end_time": "2025-03-17T00:45:56.938367",
     "exception": false,
     "start_time": "2025-03-17T00:45:56.896178",
     "status": "completed"
    },
    "tags": []
   },
   "outputs": [
    {
     "name": "stdout",
     "output_type": "stream",
     "text": [
      "<class 'pandas.core.frame.DataFrame'>\n",
      "RangeIndex: 7728394 entries, 0 to 7728393\n",
      "Data columns (total 46 columns):\n",
      " #   Column                 Dtype  \n",
      "---  ------                 -----  \n",
      " 0   ID                     object \n",
      " 1   Source                 object \n",
      " 2   Severity               int64  \n",
      " 3   Start_Time             object \n",
      " 4   End_Time               object \n",
      " 5   Start_Lat              float64\n",
      " 6   Start_Lng              float64\n",
      " 7   End_Lat                float64\n",
      " 8   End_Lng                float64\n",
      " 9   Distance(mi)           float64\n",
      " 10  Description            object \n",
      " 11  Street                 object \n",
      " 12  City                   object \n",
      " 13  County                 object \n",
      " 14  State                  object \n",
      " 15  Zipcode                object \n",
      " 16  Country                object \n",
      " 17  Timezone               object \n",
      " 18  Airport_Code           object \n",
      " 19  Weather_Timestamp      object \n",
      " 20  Temperature(F)         float64\n",
      " 21  Wind_Chill(F)          float64\n",
      " 22  Humidity(%)            float64\n",
      " 23  Pressure(in)           float64\n",
      " 24  Visibility(mi)         float64\n",
      " 25  Wind_Direction         object \n",
      " 26  Wind_Speed(mph)        float64\n",
      " 27  Precipitation(in)      float64\n",
      " 28  Weather_Condition      object \n",
      " 29  Amenity                bool   \n",
      " 30  Bump                   bool   \n",
      " 31  Crossing               bool   \n",
      " 32  Give_Way               bool   \n",
      " 33  Junction               bool   \n",
      " 34  No_Exit                bool   \n",
      " 35  Railway                bool   \n",
      " 36  Roundabout             bool   \n",
      " 37  Station                bool   \n",
      " 38  Stop                   bool   \n",
      " 39  Traffic_Calming        bool   \n",
      " 40  Traffic_Signal         bool   \n",
      " 41  Turning_Loop           bool   \n",
      " 42  Sunrise_Sunset         object \n",
      " 43  Civil_Twilight         object \n",
      " 44  Nautical_Twilight      object \n",
      " 45  Astronomical_Twilight  object \n",
      "dtypes: bool(13), float64(12), int64(1), object(20)\n",
      "memory usage: 2.0+ GB\n"
     ]
    }
   ],
   "source": [
    "df.info()"
   ]
  },
  {
   "cell_type": "code",
   "execution_count": 7,
   "id": "604fdcd3",
   "metadata": {
    "execution": {
     "iopub.execute_input": "2025-03-17T00:45:56.966385Z",
     "iopub.status.busy": "2025-03-17T00:45:56.966030Z",
     "iopub.status.idle": "2025-03-17T00:45:56.972461Z",
     "shell.execute_reply": "2025-03-17T00:45:56.971259Z"
    },
    "papermill": {
     "duration": 0.022413,
     "end_time": "2025-03-17T00:45:56.974218",
     "exception": false,
     "start_time": "2025-03-17T00:45:56.951805",
     "status": "completed"
    },
    "tags": []
   },
   "outputs": [
    {
     "data": {
      "text/plain": [
       "46"
      ]
     },
     "execution_count": 7,
     "metadata": {},
     "output_type": "execute_result"
    }
   ],
   "source": [
    "# reviewing the colms \n",
    "df.columns\n",
    "no_of_colms = len(df.columns)\n",
    "no_of_colms"
   ]
  },
  {
   "cell_type": "code",
   "execution_count": 8,
   "id": "3b8950e3",
   "metadata": {
    "execution": {
     "iopub.execute_input": "2025-03-17T00:45:57.002438Z",
     "iopub.status.busy": "2025-03-17T00:45:57.002077Z",
     "iopub.status.idle": "2025-03-17T00:45:57.008292Z",
     "shell.execute_reply": "2025-03-17T00:45:57.007365Z"
    },
    "papermill": {
     "duration": 0.022502,
     "end_time": "2025-03-17T00:45:57.010219",
     "exception": false,
     "start_time": "2025-03-17T00:45:56.987717",
     "status": "completed"
    },
    "tags": []
   },
   "outputs": [],
   "source": [
    "columns_description = ['This is a unique identifier of the accident record.',\n",
    "                       'Source of raw accident data',\n",
    "                       'Shows the severity of the accident, a number between 1 and 4, where 1 indicates the least impact on traffic (i.e., short delay as a result of the accident) and 4 indicates a significant impact on traffic (i.e., long delay).',\n",
    "                       'Shows start time of the accident in local time zone.',\n",
    "                       'Shows end time of the accident in local time zone. End time here refers to when the impact of accident on',\n",
    "                       'Shows latitude in GPS coordinate of the start point.',\n",
    "                       'Shows longitude in GPS coordinate of the start point.',\n",
    "                       'Shows latitude in GPS coordinate of the end point.',\n",
    "                       'Shows longitude in GPS coordinate of the end point.',\n",
    "                       'The length of the road extent affected by the accident in miles.',\n",
    "                       'Shows a human provided description of the accident.',\n",
    "                       'Shows the street name in address field.',\n",
    "                       'Shows the city in address field.',\n",
    "                       'Shows the county in address field.',\n",
    "                       'Shows the state in address field.',\n",
    "                       'Shows the zipcode in address field.',\n",
    "                       'Shows the country in address field.',\n",
    "                       'Shows timezone based on the location of the accident (eastern, central, etc.).',\n",
    "                       'Denotes an airport-based weather station which is the closest one to location of the accident.',\n",
    "                       'Shows the time-stamp of weather observation record (in local time).',\n",
    "                       'Shows the temperature (in Fahrenheit).',\n",
    "                       'Shows the wind chill (in Fahrenheit).',\n",
    "                       'Shows the humidity (in percentage).',\n",
    "                       'Shows the air pressure (in inches).',\n",
    "                       'Shows visibility (in miles).',\n",
    "                       'Shows wind direction.',\n",
    "                       'Shows wind speed (in miles per hour).',\n",
    "                       'Shows precipitation amount in inches, if there is any.',\n",
    "                       'Shows the weather condition (rain, snow, thunderstorm, fog, etc.)',\n",
    "                       'A POI annotation which indicates presence of amenity in a nearby location.',\n",
    "                       'A POI annotation which indicates presence of speed bump or hump in a nearby location.',\n",
    "                       'A POI annotation which indicates presence of crossing in a nearby location.',\n",
    "                       'A POI annotation which indicates presence of give_way in a nearby location.',\n",
    "                       'A POI annotation which indicates presence of junction in a nearby location.',\n",
    "                       'A POI annotation which indicates presence of no_exit in a nearby location.',\n",
    "                       'A POI annotation which indicates presence of railway in a nearby location.',\n",
    "                       'A POI annotation which indicates presence of roundabout in a nearby location.',\n",
    "                       'A POI annotation which indicates presence of station in a nearby location.',\n",
    "                       'A POI annotation which indicates presence of stop in a nearby location',\n",
    "                       'A POI annotation which indicates presence of traffic_calming in a nearby location.',\n",
    "                       'A POI annotation which indicates presence of traffic_signal in a nearby location.',\n",
    "                       'A POI annotation which indicates presence of turning_loop in a nearby location.',\n",
    "                       'Shows the period of day (i.e. day or night) based on sunrise/sunset.',\n",
    "                       'Shows the period of day (i.e. day or night) based on civil twilight.',\n",
    "                       'Shows the period of day (i.e. day or night) based on nautical twilight.',\n",
    "                       'Shows the period of day (i.e. day or night) based on astronomical twilight.'\n",
    "                       ]"
   ]
  },
  {
   "cell_type": "code",
   "execution_count": 9,
   "id": "1beda3b3",
   "metadata": {
    "execution": {
     "iopub.execute_input": "2025-03-17T00:45:57.039299Z",
     "iopub.status.busy": "2025-03-17T00:45:57.038946Z",
     "iopub.status.idle": "2025-03-17T00:45:57.058125Z",
     "shell.execute_reply": "2025-03-17T00:45:57.056337Z"
    },
    "papermill": {
     "duration": 0.036655,
     "end_time": "2025-03-17T00:45:57.060045",
     "exception": false,
     "start_time": "2025-03-17T00:45:57.023390",
     "status": "completed"
    },
    "tags": []
   },
   "outputs": [
    {
     "name": "stdout",
     "output_type": "stream",
     "text": [
      "the column: ID its description is: This is a unique identifier of the accident record.\n",
      "\n",
      "the column: Source its description is: Source of raw accident data\n",
      "\n",
      "the column: Severity its description is: Shows the severity of the accident, a number between 1 and 4, where 1 indicates the least impact on traffic (i.e., short delay as a result of the accident) and 4 indicates a significant impact on traffic (i.e., long delay).\n",
      "\n",
      "the column: Start_Time its description is: Shows start time of the accident in local time zone.\n",
      "\n",
      "the column: End_Time its description is: Shows end time of the accident in local time zone. End time here refers to when the impact of accident on\n",
      "\n",
      "the column: Start_Lat its description is: Shows latitude in GPS coordinate of the start point.\n",
      "\n",
      "the column: Start_Lng its description is: Shows longitude in GPS coordinate of the start point.\n",
      "\n",
      "the column: End_Lat its description is: Shows latitude in GPS coordinate of the end point.\n",
      "\n",
      "the column: End_Lng its description is: Shows longitude in GPS coordinate of the end point.\n",
      "\n",
      "the column: Distance(mi) its description is: The length of the road extent affected by the accident in miles.\n",
      "\n",
      "the column: Description its description is: Shows a human provided description of the accident.\n",
      "\n",
      "the column: Street its description is: Shows the street name in address field.\n",
      "\n",
      "the column: City its description is: Shows the city in address field.\n",
      "\n",
      "the column: County its description is: Shows the county in address field.\n",
      "\n",
      "the column: State its description is: Shows the state in address field.\n",
      "\n",
      "the column: Zipcode its description is: Shows the zipcode in address field.\n",
      "\n",
      "the column: Country its description is: Shows the country in address field.\n",
      "\n",
      "the column: Timezone its description is: Shows timezone based on the location of the accident (eastern, central, etc.).\n",
      "\n",
      "the column: Airport_Code its description is: Denotes an airport-based weather station which is the closest one to location of the accident.\n",
      "\n",
      "the column: Weather_Timestamp its description is: Shows the time-stamp of weather observation record (in local time).\n",
      "\n",
      "the column: Temperature(F) its description is: Shows the temperature (in Fahrenheit).\n",
      "\n",
      "the column: Wind_Chill(F) its description is: Shows the wind chill (in Fahrenheit).\n",
      "\n",
      "the column: Humidity(%) its description is: Shows the humidity (in percentage).\n",
      "\n",
      "the column: Pressure(in) its description is: Shows the air pressure (in inches).\n",
      "\n",
      "the column: Visibility(mi) its description is: Shows visibility (in miles).\n",
      "\n",
      "the column: Wind_Direction its description is: Shows wind direction.\n",
      "\n",
      "the column: Wind_Speed(mph) its description is: Shows wind speed (in miles per hour).\n",
      "\n",
      "the column: Precipitation(in) its description is: Shows precipitation amount in inches, if there is any.\n",
      "\n",
      "the column: Weather_Condition its description is: Shows the weather condition (rain, snow, thunderstorm, fog, etc.)\n",
      "\n",
      "the column: Amenity its description is: A POI annotation which indicates presence of amenity in a nearby location.\n",
      "\n",
      "the column: Bump its description is: A POI annotation which indicates presence of speed bump or hump in a nearby location.\n",
      "\n",
      "the column: Crossing its description is: A POI annotation which indicates presence of crossing in a nearby location.\n",
      "\n",
      "the column: Give_Way its description is: A POI annotation which indicates presence of give_way in a nearby location.\n",
      "\n",
      "the column: Junction its description is: A POI annotation which indicates presence of junction in a nearby location.\n",
      "\n",
      "the column: No_Exit its description is: A POI annotation which indicates presence of no_exit in a nearby location.\n",
      "\n",
      "the column: Railway its description is: A POI annotation which indicates presence of railway in a nearby location.\n",
      "\n",
      "the column: Roundabout its description is: A POI annotation which indicates presence of roundabout in a nearby location.\n",
      "\n",
      "the column: Station its description is: A POI annotation which indicates presence of station in a nearby location.\n",
      "\n",
      "the column: Stop its description is: A POI annotation which indicates presence of stop in a nearby location\n",
      "\n",
      "the column: Traffic_Calming its description is: A POI annotation which indicates presence of traffic_calming in a nearby location.\n",
      "\n",
      "the column: Traffic_Signal its description is: A POI annotation which indicates presence of traffic_signal in a nearby location.\n",
      "\n",
      "the column: Turning_Loop its description is: A POI annotation which indicates presence of turning_loop in a nearby location.\n",
      "\n",
      "the column: Sunrise_Sunset its description is: Shows the period of day (i.e. day or night) based on sunrise/sunset.\n",
      "\n",
      "the column: Civil_Twilight its description is: Shows the period of day (i.e. day or night) based on civil twilight.\n",
      "\n",
      "the column: Nautical_Twilight its description is: Shows the period of day (i.e. day or night) based on nautical twilight.\n",
      "\n",
      "the column: Astronomical_Twilight its description is: Shows the period of day (i.e. day or night) based on astronomical twilight.\n",
      "\n"
     ]
    }
   ],
   "source": [
    "for i,j in zip(df.columns, columns_description):\n",
    "  print(f\"the column: {i} its description is: {j}\")\n",
    "  print()"
   ]
  },
  {
   "cell_type": "code",
   "execution_count": 10,
   "id": "fe8f67f8",
   "metadata": {
    "execution": {
     "iopub.execute_input": "2025-03-17T00:45:57.088907Z",
     "iopub.status.busy": "2025-03-17T00:45:57.088570Z",
     "iopub.status.idle": "2025-03-17T00:45:57.372744Z",
     "shell.execute_reply": "2025-03-17T00:45:57.371281Z"
    },
    "papermill": {
     "duration": 0.301632,
     "end_time": "2025-03-17T00:45:57.374893",
     "exception": false,
     "start_time": "2025-03-17T00:45:57.073261",
     "status": "completed"
    },
    "tags": []
   },
   "outputs": [
    {
     "data": {
      "text/plain": [
       "13"
      ]
     },
     "execution_count": 10,
     "metadata": {},
     "output_type": "execute_result"
    }
   ],
   "source": [
    "# How many numeric columns I am working with ? \n",
    "# the only way I think it will work is ( got it from stack overflow :> ) \n",
    "numerics = ['int16', 'int32', 'int64', 'float16', 'float32', 'float64']\n",
    "numeric_columns = df.select_dtypes(include=numerics)\n",
    "numeric_col_no = len(numeric_columns.columns)\n",
    "numeric_col_no"
   ]
  },
  {
   "cell_type": "code",
   "execution_count": 11,
   "id": "acd7d408",
   "metadata": {
    "execution": {
     "iopub.execute_input": "2025-03-17T00:45:57.403693Z",
     "iopub.status.busy": "2025-03-17T00:45:57.403292Z",
     "iopub.status.idle": "2025-03-17T00:45:57.409677Z",
     "shell.execute_reply": "2025-03-17T00:45:57.408417Z"
    },
    "papermill": {
     "duration": 0.022078,
     "end_time": "2025-03-17T00:45:57.411237",
     "exception": false,
     "start_time": "2025-03-17T00:45:57.389159",
     "status": "completed"
    },
    "tags": []
   },
   "outputs": [
    {
     "data": {
      "text/plain": [
       "33"
      ]
     },
     "execution_count": 11,
     "metadata": {},
     "output_type": "execute_result"
    }
   ],
   "source": [
    "# since we have 46 columns then 13 of is numeric and the other is categorical values \n",
    "NonNumeric_col_no = no_of_colms - numeric_col_no\n",
    "NonNumeric_col_no"
   ]
  },
  {
   "cell_type": "code",
   "execution_count": 12,
   "id": "280a3fdd",
   "metadata": {
    "execution": {
     "iopub.execute_input": "2025-03-17T00:45:57.440317Z",
     "iopub.status.busy": "2025-03-17T00:45:57.439971Z",
     "iopub.status.idle": "2025-03-17T00:46:05.474534Z",
     "shell.execute_reply": "2025-03-17T00:46:05.473343Z"
    },
    "papermill": {
     "duration": 8.051576,
     "end_time": "2025-03-17T00:46:05.476609",
     "exception": false,
     "start_time": "2025-03-17T00:45:57.425033",
     "status": "completed"
    },
    "tags": []
   },
   "outputs": [],
   "source": [
    "# hmmm lets see if there is any missing values \n",
    "df.isnull().sum().sort_values(ascending=False, inplace=True)"
   ]
  },
  {
   "cell_type": "code",
   "execution_count": 13,
   "id": "c19a89a0",
   "metadata": {
    "execution": {
     "iopub.execute_input": "2025-03-17T00:46:05.504856Z",
     "iopub.status.busy": "2025-03-17T00:46:05.504462Z",
     "iopub.status.idle": "2025-03-17T00:46:13.431175Z",
     "shell.execute_reply": "2025-03-17T00:46:13.429988Z"
    },
    "papermill": {
     "duration": 7.94303,
     "end_time": "2025-03-17T00:46:13.433334",
     "exception": false,
     "start_time": "2025-03-17T00:46:05.490304",
     "status": "completed"
    },
    "tags": []
   },
   "outputs": [
    {
     "data": {
      "text/plain": [
       "End_Lat                  4.402935e-01\n",
       "End_Lng                  4.402935e-01\n",
       "Precipitation(in)        2.851286e-01\n",
       "Wind_Chill(F)            2.586590e-01\n",
       "Wind_Speed(mph)          7.391355e-02\n",
       "Visibility(mi)           2.291524e-02\n",
       "Wind_Direction           2.267043e-02\n",
       "Humidity(%)              2.253301e-02\n",
       "Weather_Condition        2.244438e-02\n",
       "Temperature(F)           2.120143e-02\n",
       "Pressure(in)             1.820288e-02\n",
       "Weather_Timestamp        1.555666e-02\n",
       "Nautical_Twilight        3.007869e-03\n",
       "Civil_Twilight           3.007869e-03\n",
       "Sunrise_Sunset           3.007869e-03\n",
       "Astronomical_Twilight    3.007869e-03\n",
       "Airport_Code             2.928810e-03\n",
       "Street                   1.406372e-03\n",
       "Timezone                 1.010300e-03\n",
       "Zipcode                  2.477876e-04\n",
       "City                     3.273643e-05\n",
       "Description              6.469649e-07\n",
       "dtype: float64"
      ]
     },
     "execution_count": 13,
     "metadata": {},
     "output_type": "execute_result"
    }
   ],
   "source": [
    "missin_precentage = df.isnull().sum().sort_values(ascending=False) / len(df)\n",
    "# I can only take the colms that have a number of missing values and remove the zeros\n",
    "missin_precentage[missin_precentage > 0]"
   ]
  },
  {
   "cell_type": "code",
   "execution_count": 14,
   "id": "c0678842",
   "metadata": {
    "execution": {
     "iopub.execute_input": "2025-03-17T00:46:13.461866Z",
     "iopub.status.busy": "2025-03-17T00:46:13.461438Z",
     "iopub.status.idle": "2025-03-17T00:46:13.948609Z",
     "shell.execute_reply": "2025-03-17T00:46:13.947479Z"
    },
    "papermill": {
     "duration": 0.503527,
     "end_time": "2025-03-17T00:46:13.950527",
     "exception": false,
     "start_time": "2025-03-17T00:46:13.447000",
     "status": "completed"
    },
    "tags": []
   },
   "outputs": [
    {
     "data": {
      "text/plain": [
       "<Axes: >"
      ]
     },
     "execution_count": 14,
     "metadata": {},
     "output_type": "execute_result"
    },
    {
     "data": {
      "image/png": "[encoded data removed]",
      "text/plain": [
       "<Figure size 1500x500 with 1 Axes>"
      ]
     },
     "metadata": {},
     "output_type": "display_data"
    }
   ],
   "source": [
    "# lets plot that and see whats up \n",
    "missin_precentage[missin_precentage > 0].plot(kind='bar', figsize=(15,5))"
   ]
  },
  {
   "cell_type": "code",
   "execution_count": 15,
   "id": "f6d0c66b",
   "metadata": {
    "_kg_hide-output": true,
    "execution": {
     "iopub.execute_input": "2025-03-17T00:46:13.980596Z",
     "iopub.status.busy": "2025-03-17T00:46:13.980223Z",
     "iopub.status.idle": "2025-03-17T00:46:15.878101Z",
     "shell.execute_reply": "2025-03-17T00:46:15.877140Z"
    },
    "papermill": {
     "duration": 1.915175,
     "end_time": "2025-03-17T00:46:15.880152",
     "exception": false,
     "start_time": "2025-03-17T00:46:13.964977",
     "status": "completed"
    },
    "tags": []
   },
   "outputs": [],
   "source": [
    "# since the End_lat & lng has so many missing data and also \n",
    "# the column: End_Lat its description is: Shows latitude in GPS coordinate of the end point.\n",
    "# the column: End_Lng its description is: Shows longitude in GPS coordinate of the end point.\n",
    "# they dont really have a meaning to me to study them\n",
    "# I can keep them around but I prefer to remove colms that has no meaning ALSO have alot of missing data\n",
    "df.drop(['End_Lat', 'End_Lng', 'Weather_Timestamp'], axis=1, inplace=True)"
   ]
  },
  {
   "cell_type": "code",
   "execution_count": 16,
   "id": "14fd025e",
   "metadata": {
    "execution": {
     "iopub.execute_input": "2025-03-17T00:46:15.912085Z",
     "iopub.status.busy": "2025-03-17T00:46:15.911718Z",
     "iopub.status.idle": "2025-03-17T00:46:17.912888Z",
     "shell.execute_reply": "2025-03-17T00:46:17.911815Z"
    },
    "papermill": {
     "duration": 2.019908,
     "end_time": "2025-03-17T00:46:17.914977",
     "exception": false,
     "start_time": "2025-03-17T00:46:15.895069",
     "status": "completed"
    },
    "tags": []
   },
   "outputs": [],
   "source": [
    "# so I guess now i need to seperate the numeric and non numeric colms alone ( just since I can do it , I will)\n",
    "numeric_colms = numeric_columns.columns.tolist()\n",
    "non_numeric_colms = df.select_dtypes(exclude=numerics).columns.tolist()\n"
   ]
  },
  {
   "cell_type": "code",
   "execution_count": 17,
   "id": "686a765e",
   "metadata": {
    "execution": {
     "iopub.execute_input": "2025-03-17T00:46:17.945209Z",
     "iopub.status.busy": "2025-03-17T00:46:17.944786Z",
     "iopub.status.idle": "2025-03-17T00:46:17.951111Z",
     "shell.execute_reply": "2025-03-17T00:46:17.950180Z"
    },
    "papermill": {
     "duration": 0.023122,
     "end_time": "2025-03-17T00:46:17.952589",
     "exception": false,
     "start_time": "2025-03-17T00:46:17.929467",
     "status": "completed"
    },
    "tags": []
   },
   "outputs": [
    {
     "data": {
      "text/plain": [
       "['Severity',\n",
       " 'Start_Lat',\n",
       " 'Start_Lng',\n",
       " 'End_Lat',\n",
       " 'End_Lng',\n",
       " 'Distance(mi)',\n",
       " 'Temperature(F)',\n",
       " 'Wind_Chill(F)',\n",
       " 'Humidity(%)',\n",
       " 'Pressure(in)',\n",
       " 'Visibility(mi)',\n",
       " 'Wind_Speed(mph)',\n",
       " 'Precipitation(in)']"
      ]
     },
     "execution_count": 17,
     "metadata": {},
     "output_type": "execute_result"
    }
   ],
   "source": [
    "numeric_colms"
   ]
  },
  {
   "cell_type": "code",
   "execution_count": 18,
   "id": "e3f0bbc0",
   "metadata": {
    "execution": {
     "iopub.execute_input": "2025-03-17T00:46:17.983228Z",
     "iopub.status.busy": "2025-03-17T00:46:17.982880Z",
     "iopub.status.idle": "2025-03-17T00:46:17.989045Z",
     "shell.execute_reply": "2025-03-17T00:46:17.988005Z"
    },
    "papermill": {
     "duration": 0.023256,
     "end_time": "2025-03-17T00:46:17.990663",
     "exception": false,
     "start_time": "2025-03-17T00:46:17.967407",
     "status": "completed"
    },
    "tags": []
   },
   "outputs": [
    {
     "data": {
      "text/plain": [
       "['ID',\n",
       " 'Source',\n",
       " 'Start_Time',\n",
       " 'End_Time',\n",
       " 'Description',\n",
       " 'Street',\n",
       " 'City',\n",
       " 'County',\n",
       " 'State',\n",
       " 'Zipcode',\n",
       " 'Country',\n",
       " 'Timezone',\n",
       " 'Airport_Code',\n",
       " 'Wind_Direction',\n",
       " 'Weather_Condition',\n",
       " 'Amenity',\n",
       " 'Bump',\n",
       " 'Crossing',\n",
       " 'Give_Way',\n",
       " 'Junction',\n",
       " 'No_Exit',\n",
       " 'Railway',\n",
       " 'Roundabout',\n",
       " 'Station',\n",
       " 'Stop',\n",
       " 'Traffic_Calming',\n",
       " 'Traffic_Signal',\n",
       " 'Turning_Loop',\n",
       " 'Sunrise_Sunset',\n",
       " 'Civil_Twilight',\n",
       " 'Nautical_Twilight',\n",
       " 'Astronomical_Twilight']"
      ]
     },
     "execution_count": 18,
     "metadata": {},
     "output_type": "execute_result"
    }
   ],
   "source": [
    "non_numeric_colms"
   ]
  },
  {
   "cell_type": "code",
   "execution_count": 19,
   "id": "49039438",
   "metadata": {
    "execution": {
     "iopub.execute_input": "2025-03-17T00:46:18.022224Z",
     "iopub.status.busy": "2025-03-17T00:46:18.021845Z",
     "iopub.status.idle": "2025-03-17T00:46:18.381791Z",
     "shell.execute_reply": "2025-03-17T00:46:18.380647Z"
    },
    "papermill": {
     "duration": 0.377422,
     "end_time": "2025-03-17T00:46:18.383598",
     "exception": false,
     "start_time": "2025-03-17T00:46:18.006176",
     "status": "completed"
    },
    "tags": []
   },
   "outputs": [
    {
     "data": {
      "text/plain": [
       "End_Lat              44.029355\n",
       "End_Lng              44.029355\n",
       "Temperature(F)        2.120143\n",
       "Wind_Chill(F)        25.865904\n",
       "Humidity(%)           2.253301\n",
       "Pressure(in)          1.820288\n",
       "Visibility(mi)        2.291524\n",
       "Wind_Speed(mph)       7.391355\n",
       "Precipitation(in)    28.512858\n",
       "dtype: float64"
      ]
     },
     "execution_count": 19,
     "metadata": {},
     "output_type": "execute_result"
    }
   ],
   "source": [
    "# now lets replace the remaining missing values \n",
    "# but HOW ??\n",
    "# first numerics \n",
    "missin_precentage_numerics = (numeric_columns.isnull().sum() / len(df)) * 100  \n",
    "missin_precentage_numerics = missin_precentage_numerics[missin_precentage_numerics > 0]\n",
    "missin_precentage_numerics\n"
   ]
  },
  {
   "cell_type": "code",
   "execution_count": 20,
   "id": "4e896fee",
   "metadata": {
    "execution": {
     "iopub.execute_input": "2025-03-17T00:46:18.415219Z",
     "iopub.status.busy": "2025-03-17T00:46:18.414893Z",
     "iopub.status.idle": "2025-03-17T00:46:21.266695Z",
     "shell.execute_reply": "2025-03-17T00:46:21.265613Z"
    },
    "papermill": {
     "duration": 2.869872,
     "end_time": "2025-03-17T00:46:21.268669",
     "exception": false,
     "start_time": "2025-03-17T00:46:18.398797",
     "status": "completed"
    },
    "tags": []
   },
   "outputs": [],
   "source": [
    "# if the missing values are very low  ( may be < 5% or more )\n",
    "# then droping the rows of these data will be fine \n",
    "df.dropna(subset=['Temperature(F)', 'Humidity(%)', 'Pressure(in)', 'Visibility(mi)', 'Wind_Speed(mph)'], inplace=True)"
   ]
  },
  {
   "cell_type": "code",
   "execution_count": 21,
   "id": "9eeea9ed",
   "metadata": {
    "execution": {
     "iopub.execute_input": "2025-03-17T00:46:21.300222Z",
     "iopub.status.busy": "2025-03-17T00:46:21.299879Z",
     "iopub.status.idle": "2025-03-17T00:47:31.043745Z",
     "shell.execute_reply": "2025-03-17T00:47:31.042627Z"
    },
    "papermill": {
     "duration": 69.761617,
     "end_time": "2025-03-17T00:47:31.045449",
     "exception": false,
     "start_time": "2025-03-17T00:46:21.283832",
     "status": "completed"
    },
    "tags": []
   },
   "outputs": [
    {
     "name": "stderr",
     "output_type": "stream",
     "text": [
      "/usr/local/lib/python3.10/dist-packages/seaborn/_oldcore.py:1119: FutureWarning: use_inf_as_na option is deprecated and will be removed in a future version. Convert inf values to NaN before operating instead.\n",
      "  with pd.option_context('mode.use_inf_as_na', True):\n",
      "/usr/local/lib/python3.10/dist-packages/seaborn/_oldcore.py:1075: FutureWarning: When grouping with a length-1 list-like, you will need to pass a length-1 tuple to get_group in a future version of pandas. Pass `(name,)` instead of `name` to silence this warning.\n",
      "  data_subset = grouped_data.get_group(pd_key)\n",
      "/usr/local/lib/python3.10/dist-packages/seaborn/_oldcore.py:1075: FutureWarning: When grouping with a length-1 list-like, you will need to pass a length-1 tuple to get_group in a future version of pandas. Pass `(name,)` instead of `name` to silence this warning.\n",
      "  data_subset = grouped_data.get_group(pd_key)\n",
      "/usr/local/lib/python3.10/dist-packages/seaborn/_oldcore.py:1075: FutureWarning: When grouping with a length-1 list-like, you will need to pass a length-1 tuple to get_group in a future version of pandas. Pass `(name,)` instead of `name` to silence this warning.\n",
      "  data_subset = grouped_data.get_group(pd_key)\n",
      "/usr/local/lib/python3.10/dist-packages/seaborn/_oldcore.py:1075: FutureWarning: When grouping with a length-1 list-like, you will need to pass a length-1 tuple to get_group in a future version of pandas. Pass `(name,)` instead of `name` to silence this warning.\n",
      "  data_subset = grouped_data.get_group(pd_key)\n"
     ]
    },
    {
     "data": {
      "image/png": "[encoded data removed]",
      "text/plain": [
       "<Figure size 1500x500 with 1 Axes>"
      ]
     },
     "metadata": {},
     "output_type": "display_data"
    }
   ],
   "source": [
    "# If data is normally distributed (no extreme outliers)\n",
    "# ok but how to know that ? I guess  I will just scatter the data I want to see it \n",
    "import matplotlib.pyplot as plt\n",
    "import seaborn as sns\n",
    "plt.figure(figsize=(15,5))\n",
    "sns.histplot(df[['Wind_Chill(F)', 'Precipitation(in)']], kde=True, bins=60)\n",
    "plt.show()"
   ]
  },
  {
   "cell_type": "code",
   "execution_count": 22,
   "id": "b1cab8cb",
   "metadata": {
    "execution": {
     "iopub.execute_input": "2025-03-17T00:47:31.079159Z",
     "iopub.status.busy": "2025-03-17T00:47:31.078634Z",
     "iopub.status.idle": "2025-03-17T00:47:31.185048Z",
     "shell.execute_reply": "2025-03-17T00:47:31.183801Z"
    },
    "papermill": {
     "duration": 0.125471,
     "end_time": "2025-03-17T00:47:31.187313",
     "exception": false,
     "start_time": "2025-03-17T00:47:31.061842",
     "status": "completed"
    },
    "tags": []
   },
   "outputs": [],
   "source": [
    "# I kinda have a feeling of off - idk if i am right or not but the Wind_chill we might replace its missing data with its mean\n",
    "df['Wind_Chill(F)'] = df['Wind_Chill(F)'].fillna(df['Wind_Chill(F)'].mean())"
   ]
  },
  {
   "cell_type": "code",
   "execution_count": 23,
   "id": "10cc4328",
   "metadata": {
    "execution": {
     "iopub.execute_input": "2025-03-17T00:47:31.220840Z",
     "iopub.status.busy": "2025-03-17T00:47:31.220423Z",
     "iopub.status.idle": "2025-03-17T00:47:31.251445Z",
     "shell.execute_reply": "2025-03-17T00:47:31.250244Z"
    },
    "papermill": {
     "duration": 0.050028,
     "end_time": "2025-03-17T00:47:31.253214",
     "exception": false,
     "start_time": "2025-03-17T00:47:31.203186",
     "status": "completed"
    },
    "tags": []
   },
   "outputs": [
    {
     "data": {
      "text/plain": [
       "0"
      ]
     },
     "execution_count": 23,
     "metadata": {},
     "output_type": "execute_result"
    }
   ],
   "source": [
    "# checking \n",
    "df['Wind_Chill(F)'].isnull().sum()"
   ]
  },
  {
   "cell_type": "code",
   "execution_count": 24,
   "id": "35f91666",
   "metadata": {
    "execution": {
     "iopub.execute_input": "2025-03-17T00:47:31.286813Z",
     "iopub.status.busy": "2025-03-17T00:47:31.286392Z",
     "iopub.status.idle": "2025-03-17T00:47:37.231963Z",
     "shell.execute_reply": "2025-03-17T00:47:37.230869Z"
    },
    "papermill": {
     "duration": 5.964823,
     "end_time": "2025-03-17T00:47:37.233779",
     "exception": false,
     "start_time": "2025-03-17T00:47:31.268956",
     "status": "completed"
    },
    "tags": []
   },
   "outputs": [
    {
     "name": "stderr",
     "output_type": "stream",
     "text": [
      "/usr/local/lib/python3.10/dist-packages/seaborn/_oldcore.py:1119: FutureWarning: use_inf_as_na option is deprecated and will be removed in a future version. Convert inf values to NaN before operating instead.\n",
      "  with pd.option_context('mode.use_inf_as_na', True):\n"
     ]
    },
    {
     "data": {
      "text/plain": [
       "<Axes: xlabel='Precipitation(in)', ylabel='Count'>"
      ]
     },
     "execution_count": 24,
     "metadata": {},
     "output_type": "execute_result"
    },
    {
     "data": {
      "image/png": "[encoded data removed]",
      "text/plain": [
       "<Figure size 640x480 with 1 Axes>"
      ]
     },
     "metadata": {},
     "output_type": "display_data"
    }
   ],
   "source": [
    "sns.histplot(df['Precipitation(in)'])"
   ]
  },
  {
   "cell_type": "code",
   "execution_count": 25,
   "id": "58d899d0",
   "metadata": {
    "execution": {
     "iopub.execute_input": "2025-03-17T00:47:37.267419Z",
     "iopub.status.busy": "2025-03-17T00:47:37.267087Z",
     "iopub.status.idle": "2025-03-17T00:47:37.275804Z",
     "shell.execute_reply": "2025-03-17T00:47:37.274553Z"
    },
    "papermill": {
     "duration": 0.027425,
     "end_time": "2025-03-17T00:47:37.277576",
     "exception": false,
     "start_time": "2025-03-17T00:47:37.250151",
     "status": "completed"
    },
    "tags": []
   },
   "outputs": [
    {
     "name": "stderr",
     "output_type": "stream",
     "text": [
      "/usr/local/lib/python3.10/dist-packages/pandas/io/formats/format.py:1458: RuntimeWarning: invalid value encountered in greater\n",
      "  has_large_values = (abs_vals > 1e6).any()\n",
      "/usr/local/lib/python3.10/dist-packages/pandas/io/formats/format.py:1459: RuntimeWarning: invalid value encountered in less\n",
      "  has_small_values = ((abs_vals < 10 ** (-self.digits)) & (abs_vals > 0)).any()\n",
      "/usr/local/lib/python3.10/dist-packages/pandas/io/formats/format.py:1459: RuntimeWarning: invalid value encountered in greater\n",
      "  has_small_values = ((abs_vals < 10 ** (-self.digits)) & (abs_vals > 0)).any()\n"
     ]
    },
    {
     "data": {
      "text/plain": [
       "2           NaN\n",
       "3           NaN\n",
       "4           NaN\n",
       "5          0.03\n",
       "6           NaN\n",
       "           ... \n",
       "7728389    0.00\n",
       "7728390    0.00\n",
       "7728391    0.00\n",
       "7728392    0.00\n",
       "7728393    0.00\n",
       "Name: Precipitation(in), Length: 7095687, dtype: float64"
      ]
     },
     "execution_count": 25,
     "metadata": {},
     "output_type": "execute_result"
    }
   ],
   "source": [
    "df['Precipitation(in)']"
   ]
  },
  {
   "cell_type": "code",
   "execution_count": 26,
   "id": "96b091c5",
   "metadata": {
    "execution": {
     "iopub.execute_input": "2025-03-17T00:47:37.312734Z",
     "iopub.status.busy": "2025-03-17T00:47:37.312343Z",
     "iopub.status.idle": "2025-03-17T00:47:37.378144Z",
     "shell.execute_reply": "2025-03-17T00:47:37.376883Z"
    },
    "papermill": {
     "duration": 0.085482,
     "end_time": "2025-03-17T00:47:37.380263",
     "exception": false,
     "start_time": "2025-03-17T00:47:37.294781",
     "status": "completed"
    },
    "tags": []
   },
   "outputs": [],
   "source": [
    "# I really dont know what to do with precipitation but its kinda seems off of its value \n",
    "# i might drop it also or fill its missing values with zeros since it is ranging between very small numbers ( idk )\n",
    "df['Precipitation(in)'] = df['Precipitation(in)'].fillna(0)"
   ]
  },
  {
   "cell_type": "code",
   "execution_count": 27,
   "id": "2434e006",
   "metadata": {
    "execution": {
     "iopub.execute_input": "2025-03-17T00:47:37.414066Z",
     "iopub.status.busy": "2025-03-17T00:47:37.413713Z",
     "iopub.status.idle": "2025-03-17T00:47:37.419713Z",
     "shell.execute_reply": "2025-03-17T00:47:37.418743Z"
    },
    "papermill": {
     "duration": 0.025115,
     "end_time": "2025-03-17T00:47:37.421677",
     "exception": false,
     "start_time": "2025-03-17T00:47:37.396562",
     "status": "completed"
    },
    "tags": []
   },
   "outputs": [
    {
     "data": {
      "text/plain": [
       "['ID',\n",
       " 'Source',\n",
       " 'Start_Time',\n",
       " 'End_Time',\n",
       " 'Description',\n",
       " 'Street',\n",
       " 'City',\n",
       " 'County',\n",
       " 'State',\n",
       " 'Zipcode',\n",
       " 'Country',\n",
       " 'Timezone',\n",
       " 'Airport_Code',\n",
       " 'Wind_Direction',\n",
       " 'Weather_Condition',\n",
       " 'Amenity',\n",
       " 'Bump',\n",
       " 'Crossing',\n",
       " 'Give_Way',\n",
       " 'Junction',\n",
       " 'No_Exit',\n",
       " 'Railway',\n",
       " 'Roundabout',\n",
       " 'Station',\n",
       " 'Stop',\n",
       " 'Traffic_Calming',\n",
       " 'Traffic_Signal',\n",
       " 'Turning_Loop',\n",
       " 'Sunrise_Sunset',\n",
       " 'Civil_Twilight',\n",
       " 'Nautical_Twilight',\n",
       " 'Astronomical_Twilight']"
      ]
     },
     "execution_count": 27,
     "metadata": {},
     "output_type": "execute_result"
    }
   ],
   "source": [
    "# Now since we are done with the numeric data lets see the non numeric \n",
    "non_numeric_colms"
   ]
  },
  {
   "cell_type": "code",
   "execution_count": 28,
   "id": "f41cf234",
   "metadata": {
    "execution": {
     "iopub.execute_input": "2025-03-17T00:47:37.456016Z",
     "iopub.status.busy": "2025-03-17T00:47:37.455666Z",
     "iopub.status.idle": "2025-03-17T00:47:45.991794Z",
     "shell.execute_reply": "2025-03-17T00:47:45.990726Z"
    },
    "papermill": {
     "duration": 8.555778,
     "end_time": "2025-03-17T00:47:45.993950",
     "exception": false,
     "start_time": "2025-03-17T00:47:37.438172",
     "status": "completed"
    },
    "tags": []
   },
   "outputs": [],
   "source": [
    "missin_precentage_Non_numerics = (df.select_dtypes(exclude=numerics).isnull().sum() / len(df)) * 100"
   ]
  },
  {
   "cell_type": "code",
   "execution_count": 29,
   "id": "8b4ffd97",
   "metadata": {
    "execution": {
     "iopub.execute_input": "2025-03-17T00:47:46.029449Z",
     "iopub.status.busy": "2025-03-17T00:47:46.029021Z",
     "iopub.status.idle": "2025-03-17T00:47:46.036992Z",
     "shell.execute_reply": "2025-03-17T00:47:46.035702Z"
    },
    "papermill": {
     "duration": 0.027087,
     "end_time": "2025-03-17T00:47:46.038651",
     "exception": false,
     "start_time": "2025-03-17T00:47:46.011564",
     "status": "completed"
    },
    "tags": []
   },
   "outputs": [
    {
     "data": {
      "text/plain": [
       "Description              0.000056\n",
       "Street                   0.146413\n",
       "City                     0.003284\n",
       "Wind_Direction           0.000930\n",
       "Weather_Condition        0.196951\n",
       "Sunrise_Sunset           0.280762\n",
       "Civil_Twilight           0.280762\n",
       "Nautical_Twilight        0.280762\n",
       "Astronomical_Twilight    0.280762\n",
       "dtype: float64"
      ]
     },
     "execution_count": 29,
     "metadata": {},
     "output_type": "execute_result"
    }
   ],
   "source": [
    "missin_precentage_Non_numerics= missin_precentage_Non_numerics[missin_precentage_Non_numerics > 0]\n",
    "missin_precentage_Non_numerics"
   ]
  },
  {
   "cell_type": "code",
   "execution_count": 30,
   "id": "3020845c",
   "metadata": {
    "execution": {
     "iopub.execute_input": "2025-03-17T00:47:46.133489Z",
     "iopub.status.busy": "2025-03-17T00:47:46.133115Z",
     "iopub.status.idle": "2025-03-17T00:47:46.627673Z",
     "shell.execute_reply": "2025-03-17T00:47:46.626600Z"
    },
    "papermill": {
     "duration": 0.514151,
     "end_time": "2025-03-17T00:47:46.629683",
     "exception": false,
     "start_time": "2025-03-17T00:47:46.115532",
     "status": "completed"
    },
    "tags": []
   },
   "outputs": [
    {
     "data": {
      "image/png": "[encoded data removed]",
      "text/plain": [
       "<Figure size 1200x600 with 1 Axes>"
      ]
     },
     "metadata": {},
     "output_type": "display_data"
    }
   ],
   "source": [
    "# WOW! they are so little of them lets just delete the missing rows orrrrr wait a sec \n",
    "missin_precentage_Non_numerics = missin_precentage_Non_numerics.sort_values(ascending=False)\n",
    "\n",
    "plt.figure(figsize=(12, 6))\n",
    "sns.barplot(x=missin_precentage_Non_numerics.index, y=missin_precentage_Non_numerics.values, palette=\"viridis\")\n",
    "plt.xticks(rotation=75)\n",
    "plt.xlabel(\"Columns\")\n",
    "plt.ylabel(\"Missing Data Percentage\")\n",
    "plt.title(\"Missing Data Percentage in Non-Numeric Columns\")\n",
    "plt.show()"
   ]
  },
  {
   "cell_type": "code",
   "execution_count": 31,
   "id": "945e0d7f",
   "metadata": {
    "execution": {
     "iopub.execute_input": "2025-03-17T00:47:46.667137Z",
     "iopub.status.busy": "2025-03-17T00:47:46.666749Z",
     "iopub.status.idle": "2025-03-17T00:47:53.249197Z",
     "shell.execute_reply": "2025-03-17T00:47:53.248016Z"
    },
    "papermill": {
     "duration": 6.603229,
     "end_time": "2025-03-17T00:47:53.251110",
     "exception": false,
     "start_time": "2025-03-17T00:47:46.647881",
     "status": "completed"
    },
    "tags": []
   },
   "outputs": [],
   "source": [
    "# I gues I will just delete the rows of missing data\n",
    "\n",
    "cols_missing = missin_precentage_Non_numerics.index.tolist()\n",
    "df.dropna(subset=cols_missing, inplace=True)"
   ]
  },
  {
   "cell_type": "code",
   "execution_count": 32,
   "id": "8e2c85e1",
   "metadata": {
    "execution": {
     "iopub.execute_input": "2025-03-17T00:47:53.288140Z",
     "iopub.status.busy": "2025-03-17T00:47:53.287769Z",
     "iopub.status.idle": "2025-03-17T00:47:53.291541Z",
     "shell.execute_reply": "2025-03-17T00:47:53.290568Z"
    },
    "papermill": {
     "duration": 0.023981,
     "end_time": "2025-03-17T00:47:53.293126",
     "exception": false,
     "start_time": "2025-03-17T00:47:53.269145",
     "status": "completed"
    },
    "tags": []
   },
   "outputs": [],
   "source": [
    "# I know there is other ways for categorial data like Mode "
   ]
  },
  {
   "cell_type": "code",
   "execution_count": 33,
   "id": "aff7bd55",
   "metadata": {
    "execution": {
     "iopub.execute_input": "2025-03-17T00:47:53.331729Z",
     "iopub.status.busy": "2025-03-17T00:47:53.331315Z",
     "iopub.status.idle": "2025-03-17T00:48:00.152709Z",
     "shell.execute_reply": "2025-03-17T00:48:00.151631Z"
    },
    "papermill": {
     "duration": 6.842844,
     "end_time": "2025-03-17T00:48:00.154894",
     "exception": false,
     "start_time": "2025-03-17T00:47:53.312050",
     "status": "completed"
    },
    "tags": []
   },
   "outputs": [
    {
     "data": {
      "text/plain": [
       "ID                       0\n",
       "Source                   0\n",
       "Severity                 0\n",
       "Start_Time               0\n",
       "End_Time                 0\n",
       "Start_Lat                0\n",
       "Start_Lng                0\n",
       "Distance(mi)             0\n",
       "Description              0\n",
       "Street                   0\n",
       "City                     0\n",
       "County                   0\n",
       "State                    0\n",
       "Zipcode                  0\n",
       "Country                  0\n",
       "Timezone                 0\n",
       "Airport_Code             0\n",
       "Temperature(F)           0\n",
       "Wind_Chill(F)            0\n",
       "Humidity(%)              0\n",
       "Pressure(in)             0\n",
       "Visibility(mi)           0\n",
       "Wind_Direction           0\n",
       "Wind_Speed(mph)          0\n",
       "Precipitation(in)        0\n",
       "Weather_Condition        0\n",
       "Amenity                  0\n",
       "Bump                     0\n",
       "Crossing                 0\n",
       "Give_Way                 0\n",
       "Junction                 0\n",
       "No_Exit                  0\n",
       "Railway                  0\n",
       "Roundabout               0\n",
       "Station                  0\n",
       "Stop                     0\n",
       "Traffic_Calming          0\n",
       "Traffic_Signal           0\n",
       "Turning_Loop             0\n",
       "Sunrise_Sunset           0\n",
       "Civil_Twilight           0\n",
       "Nautical_Twilight        0\n",
       "Astronomical_Twilight    0\n",
       "dtype: int64"
      ]
     },
     "execution_count": 33,
     "metadata": {},
     "output_type": "execute_result"
    }
   ],
   "source": [
    "# lets check \n",
    "df.isnull().sum()"
   ]
  },
  {
   "cell_type": "code",
   "execution_count": 34,
   "id": "d3cae7a4",
   "metadata": {
    "execution": {
     "iopub.execute_input": "2025-03-17T00:48:00.195171Z",
     "iopub.status.busy": "2025-03-17T00:48:00.194802Z",
     "iopub.status.idle": "2025-03-17T00:48:59.338721Z",
     "shell.execute_reply": "2025-03-17T00:48:59.337423Z"
    },
    "papermill": {
     "duration": 59.165853,
     "end_time": "2025-03-17T00:48:59.340651",
     "exception": false,
     "start_time": "2025-03-17T00:48:00.174798",
     "status": "completed"
    },
    "tags": []
   },
   "outputs": [
    {
     "name": "stderr",
     "output_type": "stream",
     "text": [
      "/usr/local/lib/python3.10/dist-packages/pandas/io/formats/format.py:1458: RuntimeWarning: invalid value encountered in greater\n",
      "  has_large_values = (abs_vals > 1e6).any()\n",
      "/usr/local/lib/python3.10/dist-packages/pandas/io/formats/format.py:1459: RuntimeWarning: invalid value encountered in less\n",
      "  has_small_values = ((abs_vals < 10 ** (-self.digits)) & (abs_vals > 0)).any()\n",
      "/usr/local/lib/python3.10/dist-packages/pandas/io/formats/format.py:1459: RuntimeWarning: invalid value encountered in greater\n",
      "  has_small_values = ((abs_vals < 10 ** (-self.digits)) & (abs_vals > 0)).any()\n",
      "/usr/local/lib/python3.10/dist-packages/pandas/io/formats/format.py:1458: RuntimeWarning: invalid value encountered in greater\n",
      "  has_large_values = (abs_vals > 1e6).any()\n",
      "/usr/local/lib/python3.10/dist-packages/pandas/io/formats/format.py:1459: RuntimeWarning: invalid value encountered in less\n",
      "  has_small_values = ((abs_vals < 10 ** (-self.digits)) & (abs_vals > 0)).any()\n",
      "/usr/local/lib/python3.10/dist-packages/pandas/io/formats/format.py:1459: RuntimeWarning: invalid value encountered in greater\n",
      "  has_small_values = ((abs_vals < 10 ** (-self.digits)) & (abs_vals > 0)).any()\n"
     ]
    },
    {
     "data": {
      "text/html": [
       "<div>\n",
       "<style scoped>\n",
       "    .dataframe tbody tr th:only-of-type {\n",
       "        vertical-align: middle;\n",
       "    }\n",
       "\n",
       "    .dataframe tbody tr th {\n",
       "        vertical-align: top;\n",
       "    }\n",
       "\n",
       "    .dataframe thead th {\n",
       "        text-align: right;\n",
       "    }\n",
       "</style>\n",
       "<table border=\"1\" class=\"dataframe\">\n",
       "  <thead>\n",
       "    <tr style=\"text-align: right;\">\n",
       "      <th></th>\n",
       "      <th>ID</th>\n",
       "      <th>Source</th>\n",
       "      <th>Severity</th>\n",
       "      <th>Start_Time</th>\n",
       "      <th>End_Time</th>\n",
       "      <th>Start_Lat</th>\n",
       "      <th>Start_Lng</th>\n",
       "      <th>Distance(mi)</th>\n",
       "      <th>Description</th>\n",
       "      <th>Street</th>\n",
       "      <th>...</th>\n",
       "      <th>Roundabout</th>\n",
       "      <th>Station</th>\n",
       "      <th>Stop</th>\n",
       "      <th>Traffic_Calming</th>\n",
       "      <th>Traffic_Signal</th>\n",
       "      <th>Turning_Loop</th>\n",
       "      <th>Sunrise_Sunset</th>\n",
       "      <th>Civil_Twilight</th>\n",
       "      <th>Nautical_Twilight</th>\n",
       "      <th>Astronomical_Twilight</th>\n",
       "    </tr>\n",
       "  </thead>\n",
       "  <tbody>\n",
       "    <tr>\n",
       "      <th>2</th>\n",
       "      <td>NaN</td>\n",
       "      <td>NaN</td>\n",
       "      <td>NaN</td>\n",
       "      <td>NaN</td>\n",
       "      <td>NaN</td>\n",
       "      <td>NaN</td>\n",
       "      <td>NaN</td>\n",
       "      <td>NaN</td>\n",
       "      <td>NaN</td>\n",
       "      <td>NaN</td>\n",
       "      <td>...</td>\n",
       "      <td>NaN</td>\n",
       "      <td>NaN</td>\n",
       "      <td>NaN</td>\n",
       "      <td>NaN</td>\n",
       "      <td>NaN</td>\n",
       "      <td>NaN</td>\n",
       "      <td>NaN</td>\n",
       "      <td>NaN</td>\n",
       "      <td>NaN</td>\n",
       "      <td>NaN</td>\n",
       "    </tr>\n",
       "    <tr>\n",
       "      <th>3</th>\n",
       "      <td>NaN</td>\n",
       "      <td>NaN</td>\n",
       "      <td>NaN</td>\n",
       "      <td>NaN</td>\n",
       "      <td>NaN</td>\n",
       "      <td>NaN</td>\n",
       "      <td>NaN</td>\n",
       "      <td>NaN</td>\n",
       "      <td>NaN</td>\n",
       "      <td>NaN</td>\n",
       "      <td>...</td>\n",
       "      <td>NaN</td>\n",
       "      <td>NaN</td>\n",
       "      <td>NaN</td>\n",
       "      <td>NaN</td>\n",
       "      <td>NaN</td>\n",
       "      <td>NaN</td>\n",
       "      <td>NaN</td>\n",
       "      <td>NaN</td>\n",
       "      <td>NaN</td>\n",
       "      <td>NaN</td>\n",
       "    </tr>\n",
       "    <tr>\n",
       "      <th>4</th>\n",
       "      <td>NaN</td>\n",
       "      <td>NaN</td>\n",
       "      <td>NaN</td>\n",
       "      <td>NaN</td>\n",
       "      <td>NaN</td>\n",
       "      <td>NaN</td>\n",
       "      <td>NaN</td>\n",
       "      <td>NaN</td>\n",
       "      <td>NaN</td>\n",
       "      <td>NaN</td>\n",
       "      <td>...</td>\n",
       "      <td>NaN</td>\n",
       "      <td>NaN</td>\n",
       "      <td>NaN</td>\n",
       "      <td>NaN</td>\n",
       "      <td>NaN</td>\n",
       "      <td>NaN</td>\n",
       "      <td>NaN</td>\n",
       "      <td>NaN</td>\n",
       "      <td>NaN</td>\n",
       "      <td>NaN</td>\n",
       "    </tr>\n",
       "    <tr>\n",
       "      <th>5</th>\n",
       "      <td>NaN</td>\n",
       "      <td>NaN</td>\n",
       "      <td>NaN</td>\n",
       "      <td>NaN</td>\n",
       "      <td>NaN</td>\n",
       "      <td>NaN</td>\n",
       "      <td>NaN</td>\n",
       "      <td>NaN</td>\n",
       "      <td>NaN</td>\n",
       "      <td>NaN</td>\n",
       "      <td>...</td>\n",
       "      <td>NaN</td>\n",
       "      <td>NaN</td>\n",
       "      <td>NaN</td>\n",
       "      <td>NaN</td>\n",
       "      <td>NaN</td>\n",
       "      <td>NaN</td>\n",
       "      <td>NaN</td>\n",
       "      <td>NaN</td>\n",
       "      <td>NaN</td>\n",
       "      <td>NaN</td>\n",
       "    </tr>\n",
       "    <tr>\n",
       "      <th>6</th>\n",
       "      <td>NaN</td>\n",
       "      <td>NaN</td>\n",
       "      <td>NaN</td>\n",
       "      <td>NaN</td>\n",
       "      <td>NaN</td>\n",
       "      <td>NaN</td>\n",
       "      <td>NaN</td>\n",
       "      <td>NaN</td>\n",
       "      <td>NaN</td>\n",
       "      <td>NaN</td>\n",
       "      <td>...</td>\n",
       "      <td>NaN</td>\n",
       "      <td>NaN</td>\n",
       "      <td>NaN</td>\n",
       "      <td>NaN</td>\n",
       "      <td>NaN</td>\n",
       "      <td>NaN</td>\n",
       "      <td>NaN</td>\n",
       "      <td>NaN</td>\n",
       "      <td>NaN</td>\n",
       "      <td>NaN</td>\n",
       "    </tr>\n",
       "    <tr>\n",
       "      <th>...</th>\n",
       "      <td>...</td>\n",
       "      <td>...</td>\n",
       "      <td>...</td>\n",
       "      <td>...</td>\n",
       "      <td>...</td>\n",
       "      <td>...</td>\n",
       "      <td>...</td>\n",
       "      <td>...</td>\n",
       "      <td>...</td>\n",
       "      <td>...</td>\n",
       "      <td>...</td>\n",
       "      <td>...</td>\n",
       "      <td>...</td>\n",
       "      <td>...</td>\n",
       "      <td>...</td>\n",
       "      <td>...</td>\n",
       "      <td>...</td>\n",
       "      <td>...</td>\n",
       "      <td>...</td>\n",
       "      <td>...</td>\n",
       "      <td>...</td>\n",
       "    </tr>\n",
       "    <tr>\n",
       "      <th>7728389</th>\n",
       "      <td>NaN</td>\n",
       "      <td>NaN</td>\n",
       "      <td>NaN</td>\n",
       "      <td>NaN</td>\n",
       "      <td>NaN</td>\n",
       "      <td>NaN</td>\n",
       "      <td>NaN</td>\n",
       "      <td>NaN</td>\n",
       "      <td>NaN</td>\n",
       "      <td>NaN</td>\n",
       "      <td>...</td>\n",
       "      <td>NaN</td>\n",
       "      <td>NaN</td>\n",
       "      <td>NaN</td>\n",
       "      <td>NaN</td>\n",
       "      <td>NaN</td>\n",
       "      <td>NaN</td>\n",
       "      <td>NaN</td>\n",
       "      <td>NaN</td>\n",
       "      <td>NaN</td>\n",
       "      <td>NaN</td>\n",
       "    </tr>\n",
       "    <tr>\n",
       "      <th>7728390</th>\n",
       "      <td>NaN</td>\n",
       "      <td>NaN</td>\n",
       "      <td>NaN</td>\n",
       "      <td>NaN</td>\n",
       "      <td>NaN</td>\n",
       "      <td>NaN</td>\n",
       "      <td>NaN</td>\n",
       "      <td>NaN</td>\n",
       "      <td>NaN</td>\n",
       "      <td>NaN</td>\n",
       "      <td>...</td>\n",
       "      <td>NaN</td>\n",
       "      <td>NaN</td>\n",
       "      <td>NaN</td>\n",
       "      <td>NaN</td>\n",
       "      <td>NaN</td>\n",
       "      <td>NaN</td>\n",
       "      <td>NaN</td>\n",
       "      <td>NaN</td>\n",
       "      <td>NaN</td>\n",
       "      <td>NaN</td>\n",
       "    </tr>\n",
       "    <tr>\n",
       "      <th>7728391</th>\n",
       "      <td>NaN</td>\n",
       "      <td>NaN</td>\n",
       "      <td>NaN</td>\n",
       "      <td>NaN</td>\n",
       "      <td>NaN</td>\n",
       "      <td>NaN</td>\n",
       "      <td>NaN</td>\n",
       "      <td>NaN</td>\n",
       "      <td>NaN</td>\n",
       "      <td>NaN</td>\n",
       "      <td>...</td>\n",
       "      <td>NaN</td>\n",
       "      <td>NaN</td>\n",
       "      <td>NaN</td>\n",
       "      <td>NaN</td>\n",
       "      <td>NaN</td>\n",
       "      <td>NaN</td>\n",
       "      <td>NaN</td>\n",
       "      <td>NaN</td>\n",
       "      <td>NaN</td>\n",
       "      <td>NaN</td>\n",
       "    </tr>\n",
       "    <tr>\n",
       "      <th>7728392</th>\n",
       "      <td>NaN</td>\n",
       "      <td>NaN</td>\n",
       "      <td>NaN</td>\n",
       "      <td>NaN</td>\n",
       "      <td>NaN</td>\n",
       "      <td>NaN</td>\n",
       "      <td>NaN</td>\n",
       "      <td>NaN</td>\n",
       "      <td>NaN</td>\n",
       "      <td>NaN</td>\n",
       "      <td>...</td>\n",
       "      <td>NaN</td>\n",
       "      <td>NaN</td>\n",
       "      <td>NaN</td>\n",
       "      <td>NaN</td>\n",
       "      <td>NaN</td>\n",
       "      <td>NaN</td>\n",
       "      <td>NaN</td>\n",
       "      <td>NaN</td>\n",
       "      <td>NaN</td>\n",
       "      <td>NaN</td>\n",
       "    </tr>\n",
       "    <tr>\n",
       "      <th>7728393</th>\n",
       "      <td>NaN</td>\n",
       "      <td>NaN</td>\n",
       "      <td>NaN</td>\n",
       "      <td>NaN</td>\n",
       "      <td>NaN</td>\n",
       "      <td>NaN</td>\n",
       "      <td>NaN</td>\n",
       "      <td>NaN</td>\n",
       "      <td>NaN</td>\n",
       "      <td>NaN</td>\n",
       "      <td>...</td>\n",
       "      <td>NaN</td>\n",
       "      <td>NaN</td>\n",
       "      <td>NaN</td>\n",
       "      <td>NaN</td>\n",
       "      <td>NaN</td>\n",
       "      <td>NaN</td>\n",
       "      <td>NaN</td>\n",
       "      <td>NaN</td>\n",
       "      <td>NaN</td>\n",
       "      <td>NaN</td>\n",
       "    </tr>\n",
       "  </tbody>\n",
       "</table>\n",
       "<p>7051556 rows × 43 columns</p>\n",
       "</div>"
      ],
      "text/plain": [
       "          ID Source  Severity Start_Time End_Time  Start_Lat  Start_Lng  \\\n",
       "2        NaN    NaN       NaN        NaN      NaN        NaN        NaN   \n",
       "3        NaN    NaN       NaN        NaN      NaN        NaN        NaN   \n",
       "4        NaN    NaN       NaN        NaN      NaN        NaN        NaN   \n",
       "5        NaN    NaN       NaN        NaN      NaN        NaN        NaN   \n",
       "6        NaN    NaN       NaN        NaN      NaN        NaN        NaN   \n",
       "...      ...    ...       ...        ...      ...        ...        ...   \n",
       "7728389  NaN    NaN       NaN        NaN      NaN        NaN        NaN   \n",
       "7728390  NaN    NaN       NaN        NaN      NaN        NaN        NaN   \n",
       "7728391  NaN    NaN       NaN        NaN      NaN        NaN        NaN   \n",
       "7728392  NaN    NaN       NaN        NaN      NaN        NaN        NaN   \n",
       "7728393  NaN    NaN       NaN        NaN      NaN        NaN        NaN   \n",
       "\n",
       "         Distance(mi) Description Street  ... Roundabout Station Stop  \\\n",
       "2                 NaN         NaN    NaN  ...        NaN     NaN  NaN   \n",
       "3                 NaN         NaN    NaN  ...        NaN     NaN  NaN   \n",
       "4                 NaN         NaN    NaN  ...        NaN     NaN  NaN   \n",
       "5                 NaN         NaN    NaN  ...        NaN     NaN  NaN   \n",
       "6                 NaN         NaN    NaN  ...        NaN     NaN  NaN   \n",
       "...               ...         ...    ...  ...        ...     ...  ...   \n",
       "7728389           NaN         NaN    NaN  ...        NaN     NaN  NaN   \n",
       "7728390           NaN         NaN    NaN  ...        NaN     NaN  NaN   \n",
       "7728391           NaN         NaN    NaN  ...        NaN     NaN  NaN   \n",
       "7728392           NaN         NaN    NaN  ...        NaN     NaN  NaN   \n",
       "7728393           NaN         NaN    NaN  ...        NaN     NaN  NaN   \n",
       "\n",
       "        Traffic_Calming Traffic_Signal Turning_Loop Sunrise_Sunset  \\\n",
       "2                   NaN            NaN          NaN            NaN   \n",
       "3                   NaN            NaN          NaN            NaN   \n",
       "4                   NaN            NaN          NaN            NaN   \n",
       "5                   NaN            NaN          NaN            NaN   \n",
       "6                   NaN            NaN          NaN            NaN   \n",
       "...                 ...            ...          ...            ...   \n",
       "7728389             NaN            NaN          NaN            NaN   \n",
       "7728390             NaN            NaN          NaN            NaN   \n",
       "7728391             NaN            NaN          NaN            NaN   \n",
       "7728392             NaN            NaN          NaN            NaN   \n",
       "7728393             NaN            NaN          NaN            NaN   \n",
       "\n",
       "         Civil_Twilight  Nautical_Twilight  Astronomical_Twilight  \n",
       "2                   NaN                NaN                    NaN  \n",
       "3                   NaN                NaN                    NaN  \n",
       "4                   NaN                NaN                    NaN  \n",
       "5                   NaN                NaN                    NaN  \n",
       "6                   NaN                NaN                    NaN  \n",
       "...                 ...                ...                    ...  \n",
       "7728389             NaN                NaN                    NaN  \n",
       "7728390             NaN                NaN                    NaN  \n",
       "7728391             NaN                NaN                    NaN  \n",
       "7728392             NaN                NaN                    NaN  \n",
       "7728393             NaN                NaN                    NaN  \n",
       "\n",
       "[7051556 rows x 43 columns]"
      ]
     },
     "execution_count": 34,
     "metadata": {},
     "output_type": "execute_result"
    }
   ],
   "source": [
    "df[df.isin([\"NaN\", \"None\", \" \", \"\"])]  # Check for non-standard missing values"
   ]
  },
  {
   "cell_type": "code",
   "execution_count": 35,
   "id": "019fd645",
   "metadata": {
    "execution": {
     "iopub.execute_input": "2025-03-17T00:48:59.380790Z",
     "iopub.status.busy": "2025-03-17T00:48:59.380400Z",
     "iopub.status.idle": "2025-03-17T00:50:02.873796Z",
     "shell.execute_reply": "2025-03-17T00:50:02.872202Z"
    },
    "papermill": {
     "duration": 63.542037,
     "end_time": "2025-03-17T00:50:02.902838",
     "exception": false,
     "start_time": "2025-03-17T00:48:59.360801",
     "status": "completed"
    },
    "tags": []
   },
   "outputs": [
    {
     "data": {
      "text/plain": [
       "ID                       0\n",
       "Source                   0\n",
       "Severity                 0\n",
       "Start_Time               0\n",
       "End_Time                 0\n",
       "Start_Lat                0\n",
       "Start_Lng                0\n",
       "Distance(mi)             0\n",
       "Description              0\n",
       "Street                   0\n",
       "City                     0\n",
       "County                   0\n",
       "State                    0\n",
       "Zipcode                  0\n",
       "Country                  0\n",
       "Timezone                 0\n",
       "Airport_Code             0\n",
       "Temperature(F)           0\n",
       "Wind_Chill(F)            0\n",
       "Humidity(%)              0\n",
       "Pressure(in)             0\n",
       "Visibility(mi)           0\n",
       "Wind_Direction           0\n",
       "Wind_Speed(mph)          0\n",
       "Precipitation(in)        0\n",
       "Weather_Condition        0\n",
       "Amenity                  0\n",
       "Bump                     0\n",
       "Crossing                 0\n",
       "Give_Way                 0\n",
       "Junction                 0\n",
       "No_Exit                  0\n",
       "Railway                  0\n",
       "Roundabout               0\n",
       "Station                  0\n",
       "Stop                     0\n",
       "Traffic_Calming          0\n",
       "Traffic_Signal           0\n",
       "Turning_Loop             0\n",
       "Sunrise_Sunset           0\n",
       "Civil_Twilight           0\n",
       "Nautical_Twilight        0\n",
       "Astronomical_Twilight    0\n",
       "dtype: int64"
      ]
     },
     "execution_count": 35,
     "metadata": {},
     "output_type": "execute_result"
    }
   ],
   "source": [
    "import numpy as np\n",
    "df.replace([\"NaN\", \"None\", \" \", \"\"], np.nan, inplace=True)\n",
    "df.dropna(subset=df.columns)\n",
    "df.isnull().sum()\n"
   ]
  },
  {
   "cell_type": "markdown",
   "id": "f756cd43",
   "metadata": {
    "papermill": {
     "duration": 0.018605,
     "end_time": "2025-03-17T00:50:02.941302",
     "exception": false,
     "start_time": "2025-03-17T00:50:02.922697",
     "status": "completed"
    },
    "tags": []
   },
   "source": [
    "## Exploratory analysis & Visualization\n",
    "\n",
    "columns I will analyze: (bescuse dude come on its above 40 columns I cant do full analzyin)\\\n",
    "\n",
    "- city\n",
    "- temperature\n",
    "- stop\n",
    "- traffic_signal\n",
    "- severity"
   ]
  },
  {
   "cell_type": "code",
   "execution_count": 36,
   "id": "aa826abd",
   "metadata": {
    "execution": {
     "iopub.execute_input": "2025-03-17T00:50:02.980709Z",
     "iopub.status.busy": "2025-03-17T00:50:02.980234Z",
     "iopub.status.idle": "2025-03-17T00:50:02.985547Z",
     "shell.execute_reply": "2025-03-17T00:50:02.984515Z"
    },
    "papermill": {
     "duration": 0.027225,
     "end_time": "2025-03-17T00:50:02.987286",
     "exception": false,
     "start_time": "2025-03-17T00:50:02.960061",
     "status": "completed"
    },
    "tags": []
   },
   "outputs": [],
   "source": [
    "Foucesd_Colms = [\n",
    "    \"City\", \"State\", \"County\", \"Street\",  # Location\n",
    "    \"Severity\",  # Severity of accidents\n",
    "    \"Start_Time\", \"End_Time\",  # Time-related analysis\n",
    "    \"Weather_Condition\", \"Temperature(F)\", \"Humidity(%)\", \"Precipitation(in)\",  \n",
    "    \"Wind_Speed(mph)\", \"Visibility(mi)\", \"Pressure(in)\",  # Weather Factors\n",
    "    \"Civil_Twilight\", \"Nautical_Twilight\", \"Astronomical_Twilight\"  # Twilight conditions\n",
    "]\n"
   ]
  },
  {
   "cell_type": "code",
   "execution_count": 37,
   "id": "03fad524",
   "metadata": {
    "execution": {
     "iopub.execute_input": "2025-03-17T00:50:03.027087Z",
     "iopub.status.busy": "2025-03-17T00:50:03.026748Z",
     "iopub.status.idle": "2025-03-17T00:50:03.571795Z",
     "shell.execute_reply": "2025-03-17T00:50:03.570643Z"
    },
    "papermill": {
     "duration": 0.566857,
     "end_time": "2025-03-17T00:50:03.573714",
     "exception": false,
     "start_time": "2025-03-17T00:50:03.006857",
     "status": "completed"
    },
    "tags": []
   },
   "outputs": [
    {
     "data": {
      "text/plain": [
       "12141"
      ]
     },
     "execution_count": 37,
     "metadata": {},
     "output_type": "execute_result"
    }
   ],
   "source": [
    "# lets see one by one \n",
    "cities = df.City.unique()\n",
    "len(cities)"
   ]
  },
  {
   "cell_type": "code",
   "execution_count": 38,
   "id": "3d1626b8",
   "metadata": {
    "execution": {
     "iopub.execute_input": "2025-03-17T00:50:03.613573Z",
     "iopub.status.busy": "2025-03-17T00:50:03.613165Z",
     "iopub.status.idle": "2025-03-17T00:50:03.620268Z",
     "shell.execute_reply": "2025-03-17T00:50:03.618953Z"
    },
    "papermill": {
     "duration": 0.029326,
     "end_time": "2025-03-17T00:50:03.622129",
     "exception": false,
     "start_time": "2025-03-17T00:50:03.592803",
     "status": "completed"
    },
    "tags": []
   },
   "outputs": [
    {
     "data": {
      "text/plain": [
       "array(['Williamsburg', 'Dayton', 'Westerville', 'Columbus',\n",
       "       'Reynoldsburg', 'Miamisburg', 'Johnstown', 'Dublin',\n",
       "       'Canal Winchester', 'Lebanon', 'Sabina', 'Goshen', 'Waynesville',\n",
       "       'Springboro', 'Carroll', 'Oregonia', 'Independence',\n",
       "       'Maple Heights', 'Grove City', 'Findlay', 'Fairborn', 'Piqua',\n",
       "       'New Richmond', 'Batavia', 'Galena', 'Barberton', 'Akron',\n",
       "       'Mansfield', 'Cleveland', 'Seville', 'Bellville', 'Troy',\n",
       "       'Wilmington', 'Pataskala', 'North Olmsted', 'Groveport', 'Tiro',\n",
       "       'Orient', 'Strongsville', 'Beavercreek', 'Circleville', 'Peebles',\n",
       "       'Hurricane', 'Xenia', 'Bethel', 'Elyria', 'Pickerington',\n",
       "       'Burbank', 'Zanesville', 'North Baltimore', 'Mount Sterling',\n",
       "       'Tipp City', 'Moraine', 'Hilliard', 'Bowling Green', 'Maineville',\n",
       "       'Vermilion', 'Milford', 'Brookpark', 'Fraziers Bottom',\n",
       "       'Cambridge', 'Delaware', 'Moscow', 'Oberlin', 'Sardinia',\n",
       "       'Urbancrest', 'Brecksville', 'Frankfort', 'Blanchester',\n",
       "       'Casstown', 'Lima', 'Amelia', 'Newark', 'Springfield', 'Vandalia',\n",
       "       'Galloway', 'Bloomingburg', 'Gallipolis', 'Lockbourne',\n",
       "       'Millersport', 'New Carlisle', 'Sunbury', 'Owensville', 'London',\n",
       "       'Vallejo', 'Hayward', 'Walnut Creek', 'Cupertino', 'San Jose',\n",
       "       'Pleasanton', 'San Francisco', 'Orinda', 'Livermore', 'Cotati',\n",
       "       'Concord', 'Sunnyvale', 'Sacramento', 'Oakland', 'Alviso',\n",
       "       'Morgan Hill'], dtype=object)"
      ]
     },
     "execution_count": 38,
     "metadata": {},
     "output_type": "execute_result"
    }
   ],
   "source": [
    "#oh damn ... freaken 12,141 CITIESSS ???? WHY !!\n",
    "#lets just take for like 100 only \n",
    "choosen_cities = cities[:100]\n",
    "choosen_cities"
   ]
  },
  {
   "cell_type": "markdown",
   "id": "06c8bd0b",
   "metadata": {
    "papermill": {
     "duration": 0.018742,
     "end_time": "2025-03-17T00:50:03.660206",
     "exception": false,
     "start_time": "2025-03-17T00:50:03.641464",
     "status": "completed"
    },
    "tags": []
   },
   "source": [
    "# Question 1: What are the most common accident locations in the US?"
   ]
  },
  {
   "cell_type": "code",
   "execution_count": 39,
   "id": "744b678c",
   "metadata": {
    "execution": {
     "iopub.execute_input": "2025-03-17T00:50:03.699481Z",
     "iopub.status.busy": "2025-03-17T00:50:03.699095Z",
     "iopub.status.idle": "2025-03-17T00:50:04.397536Z",
     "shell.execute_reply": "2025-03-17T00:50:04.396390Z"
    },
    "papermill": {
     "duration": 0.720354,
     "end_time": "2025-03-17T00:50:04.399470",
     "exception": false,
     "start_time": "2025-03-17T00:50:03.679116",
     "status": "completed"
    },
    "tags": []
   },
   "outputs": [
    {
     "data": {
      "text/plain": [
       "City\n",
       "Miami          180834\n",
       "Houston        155747\n",
       "Los Angeles    131887\n",
       "Charlotte      128267\n",
       "Dallas         126393\n",
       "Orlando        106431\n",
       "Austin          84441\n",
       "Raleigh         80870\n",
       "Nashville       70081\n",
       "Baton Rouge     68165\n",
       "Name: count, dtype: int64"
      ]
     },
     "execution_count": 39,
     "metadata": {},
     "output_type": "execute_result"
    }
   ],
   "source": [
    "top_cities = df['City'].value_counts().head(10)\n",
    "top_cities"
   ]
  },
  {
   "cell_type": "code",
   "execution_count": 40,
   "id": "bf21fa63",
   "metadata": {
    "execution": {
     "iopub.execute_input": "2025-03-17T00:50:04.440343Z",
     "iopub.status.busy": "2025-03-17T00:50:04.439987Z",
     "iopub.status.idle": "2025-03-17T00:50:04.733329Z",
     "shell.execute_reply": "2025-03-17T00:50:04.732168Z"
    },
    "papermill": {
     "duration": 0.315581,
     "end_time": "2025-03-17T00:50:04.735447",
     "exception": false,
     "start_time": "2025-03-17T00:50:04.419866",
     "status": "completed"
    },
    "tags": []
   },
   "outputs": [
    {
     "data": {
      "image/png": "[encoded data removed]",
      "text/plain": [
       "<Figure size 1200x600 with 1 Axes>"
      ]
     },
     "metadata": {},
     "output_type": "display_data"
    }
   ],
   "source": [
    "plt.figure(figsize=(12,6))\n",
    "sns.barplot(x=top_cities.index, y=top_cities.values, palette=\"Reds_r\")\n",
    "\n",
    "plt.xlabel(\"City\", fontsize=12)\n",
    "plt.ylabel(\"Number of Accidents\", fontsize=12)\n",
    "plt.title(\"Top 10 US Cities with Most Accidents\", fontsize=15)\n",
    "plt.xticks(rotation=45)\n",
    "plt.show()"
   ]
  },
  {
   "cell_type": "markdown",
   "id": "25fc16ad",
   "metadata": {
    "papermill": {
     "duration": 0.020793,
     "end_time": "2025-03-17T00:50:04.777406",
     "exception": false,
     "start_time": "2025-03-17T00:50:04.756613",
     "status": "completed"
    },
    "tags": []
   },
   "source": [
    "#### that answer our question , these are the locations "
   ]
  },
  {
   "cell_type": "markdown",
   "id": "46859a99",
   "metadata": {
    "papermill": {
     "duration": 0.021477,
     "end_time": "2025-03-17T00:50:04.820055",
     "exception": false,
     "start_time": "2025-03-17T00:50:04.798578",
     "status": "completed"
    },
    "tags": []
   },
   "source": [
    "# Question 2: How Does Accident Severity Vary by Weather Conditions?"
   ]
  },
  {
   "cell_type": "code",
   "execution_count": 41,
   "id": "a4623e83",
   "metadata": {
    "execution": {
     "iopub.execute_input": "2025-03-17T00:50:04.863935Z",
     "iopub.status.busy": "2025-03-17T00:50:04.863477Z",
     "iopub.status.idle": "2025-03-17T00:50:06.093288Z",
     "shell.execute_reply": "2025-03-17T00:50:06.092011Z"
    },
    "papermill": {
     "duration": 1.25395,
     "end_time": "2025-03-17T00:50:06.095645",
     "exception": false,
     "start_time": "2025-03-17T00:50:04.841695",
     "status": "completed"
    },
    "tags": []
   },
   "outputs": [],
   "source": [
    "#first Convert to lowercase for consistency\n",
    "df[\"Weather_Condition\"] = df[\"Weather_Condition\"].str.lower()\n"
   ]
  },
  {
   "cell_type": "code",
   "execution_count": 42,
   "id": "7a31c3a3",
   "metadata": {
    "execution": {
     "iopub.execute_input": "2025-03-17T00:50:06.138661Z",
     "iopub.status.busy": "2025-03-17T00:50:06.138232Z",
     "iopub.status.idle": "2025-03-17T00:50:11.636978Z",
     "shell.execute_reply": "2025-03-17T00:50:11.635831Z"
    },
    "papermill": {
     "duration": 5.522798,
     "end_time": "2025-03-17T00:50:11.639176",
     "exception": false,
     "start_time": "2025-03-17T00:50:06.116378",
     "status": "completed"
    },
    "tags": []
   },
   "outputs": [],
   "source": [
    "# Group similar weather conditions\n",
    "df[\"Weather_Condition\"] = df[\"Weather_Condition\"].replace({\n",
    "    \"light rain\": \"rain\", \"heavy rain\": \"rain\",\n",
    "    \"light snow\": \"snow\", \"heavy snow\": \"snow\",\n",
    "    \"thunderstorms\": \"storm\", \"t-storm\": \"storm\",\n",
    "    \"fog\": \"foggy\", \"haze\": \"foggy\", \"mist\": \"foggy\"\n",
    "})"
   ]
  },
  {
   "cell_type": "code",
   "execution_count": 43,
   "id": "d6cf428d",
   "metadata": {
    "execution": {
     "iopub.execute_input": "2025-03-17T00:50:11.681895Z",
     "iopub.status.busy": "2025-03-17T00:50:11.681464Z",
     "iopub.status.idle": "2025-03-17T00:50:11.688093Z",
     "shell.execute_reply": "2025-03-17T00:50:11.686876Z"
    },
    "papermill": {
     "duration": 0.030477,
     "end_time": "2025-03-17T00:50:11.689925",
     "exception": false,
     "start_time": "2025-03-17T00:50:11.659448",
     "status": "completed"
    },
    "tags": []
   },
   "outputs": [
    {
     "data": {
      "text/plain": [
       "7051556"
      ]
     },
     "execution_count": 43,
     "metadata": {},
     "output_type": "execute_result"
    }
   ],
   "source": [
    "len(df[\"Weather_Condition\"])"
   ]
  },
  {
   "cell_type": "code",
   "execution_count": 44,
   "id": "f71648f4",
   "metadata": {
    "execution": {
     "iopub.execute_input": "2025-03-17T00:50:11.731686Z",
     "iopub.status.busy": "2025-03-17T00:50:11.731259Z",
     "iopub.status.idle": "2025-03-17T00:50:12.230801Z",
     "shell.execute_reply": "2025-03-17T00:50:12.229698Z"
    },
    "papermill": {
     "duration": 0.522649,
     "end_time": "2025-03-17T00:50:12.232741",
     "exception": false,
     "start_time": "2025-03-17T00:50:11.710092",
     "status": "completed"
    },
    "tags": []
   },
   "outputs": [
    {
     "data": {
      "text/plain": [
       "array(['overcast', 'mostly cloudy', 'rain', 'snow', 'foggy',\n",
       "       'scattered clouds', 'partly cloudy', 'clear',\n",
       "       'light freezing drizzle', 'light drizzle', 'shallow fog',\n",
       "       'light freezing rain', 'cloudy', 'drizzle', 'light rain showers',\n",
       "       'smoke', 'patches of fog', 'light freezing fog', 'light haze',\n",
       "       'light thunderstorms and rain', 'thunderstorms and rain', 'fair',\n",
       "       'blowing sand', 'blowing dust / windy', 'widespread dust',\n",
       "       'fair / windy', 'rain showers', 'light rain / windy', 'hail',\n",
       "       'heavy drizzle', 'showers in the vicinity', 'light rain shower',\n",
       "       'light rain with thunder', 'mostly cloudy / windy',\n",
       "       'partly cloudy / windy', 'thunder in the vicinity', 'storm',\n",
       "       'heavy thunderstorms and rain', 'thunderstorm', 'thunder',\n",
       "       'heavy t-storm', 'funnel cloud', 'heavy t-storm / windy',\n",
       "       'blowing snow', 'light thunderstorms and snow',\n",
       "       'low drifting snow', 'light ice pellets', 'ice pellets', 'squalls',\n",
       "       'n/a precipitation', 'cloudy / windy', 'snow grains', 'light fog',\n",
       "       'snow showers', 'heavy thunderstorms and snow', 'rain / windy',\n",
       "       'heavy rain / windy', 'heavy ice pellets', 'light snow / windy',\n",
       "       'heavy freezing rain', 'small hail', 'heavy rain showers',\n",
       "       'thunder / windy', 'drizzle and fog', 't-storm / windy',\n",
       "       'blowing dust', 'smoke / windy', 'haze / windy', 'tornado',\n",
       "       'light drizzle / windy', 'widespread dust / windy', 'wintry mix',\n",
       "       'wintry mix / windy', 'light snow with thunder', 'fog / windy',\n",
       "       'light snow shower', 'sleet', 'light snow and sleet',\n",
       "       'rain shower', 'snow and sleet', 'snow / windy', 'light sleet',\n",
       "       'heavy snow / windy', 'freezing drizzle',\n",
       "       'light freezing rain / windy', 'thunder / wintry mix',\n",
       "       'blowing snow / windy', 'freezing rain',\n",
       "       'light snow and sleet / windy', 'snow and sleet / windy',\n",
       "       'sleet / windy', 'heavy freezing rain / windy', 'squalls / windy',\n",
       "       'light rain shower / windy', 'snow and thunder / windy',\n",
       "       'light sleet / windy', 'sand / dust whirlwinds', 'drizzle / windy',\n",
       "       'sand / dust whirls nearby', 'thunder and hail', 'heavy sleet',\n",
       "       'freezing rain / windy', 'partial fog',\n",
       "       'thunder / wintry mix / windy', 'patches of fog / windy',\n",
       "       'rain and sleet', 'light snow grains', 'partial fog / windy',\n",
       "       'sand / dust whirlwinds / windy', 'snow and thunder',\n",
       "       'heavy snow with thunder', 'light snow showers',\n",
       "       'heavy blowing snow', 'light hail',\n",
       "       'heavy thunderstorms with small hail', 'light thunderstorm',\n",
       "       'heavy freezing drizzle', 'light blowing snow',\n",
       "       'thunderstorms and snow', 'dust whirls', 'mist / windy',\n",
       "       'rain shower / windy', 'sleet and thunder',\n",
       "       'heavy sleet and thunder', 'drifting snow / windy',\n",
       "       'shallow fog / windy', 'thunder and hail / windy',\n",
       "       'light snow shower / windy', 'heavy sleet / windy', 'sand / windy',\n",
       "       'heavy rain shower / windy', 'blowing snow nearby',\n",
       "       'heavy rain shower', 'drifting snow'], dtype=object)"
      ]
     },
     "execution_count": 44,
     "metadata": {},
     "output_type": "execute_result"
    }
   ],
   "source": [
    "df[\"Weather_Condition\"].unique()"
   ]
  },
  {
   "cell_type": "code",
   "execution_count": 45,
   "id": "112de70e",
   "metadata": {
    "execution": {
     "iopub.execute_input": "2025-03-17T00:50:12.275770Z",
     "iopub.status.busy": "2025-03-17T00:50:12.275367Z",
     "iopub.status.idle": "2025-03-17T00:50:12.959622Z",
     "shell.execute_reply": "2025-03-17T00:50:12.958611Z"
    },
    "papermill": {
     "duration": 0.707418,
     "end_time": "2025-03-17T00:50:12.961252",
     "exception": false,
     "start_time": "2025-03-17T00:50:12.253834",
     "status": "completed"
    },
    "tags": []
   },
   "outputs": [
    {
     "data": {
      "text/plain": [
       "Index(['fair', 'mostly cloudy', 'cloudy', 'partly cloudy', 'clear', 'rain',\n",
       "       'overcast', 'scattered clouds', 'foggy', 'snow', 'fair / windy',\n",
       "       'light drizzle', 'thunder in the vicinity', 'cloudy / windy',\n",
       "       'mostly cloudy / windy', 'storm', 'thunder', 'light rain with thunder',\n",
       "       'smoke', 'wintry mix'],\n",
       "      dtype='object', name='Weather_Condition')"
      ]
     },
     "execution_count": 45,
     "metadata": {},
     "output_type": "execute_result"
    }
   ],
   "source": [
    "# ok since that is  ALOT of weather cond i will take only 20\n",
    "top_20_weather = df[\"Weather_Condition\"].value_counts().head(20).index\n",
    "top_20_weather"
   ]
  },
  {
   "cell_type": "code",
   "execution_count": 46,
   "id": "13a3f7bc",
   "metadata": {
    "execution": {
     "iopub.execute_input": "2025-03-17T00:50:13.003799Z",
     "iopub.status.busy": "2025-03-17T00:50:13.003412Z",
     "iopub.status.idle": "2025-03-17T00:50:15.460890Z",
     "shell.execute_reply": "2025-03-17T00:50:15.459773Z"
    },
    "papermill": {
     "duration": 2.48118,
     "end_time": "2025-03-17T00:50:15.462914",
     "exception": false,
     "start_time": "2025-03-17T00:50:12.981734",
     "status": "completed"
    },
    "tags": []
   },
   "outputs": [],
   "source": [
    "df = df[df[\"Weather_Condition\"].isin(top_20_weather)]\n"
   ]
  },
  {
   "cell_type": "code",
   "execution_count": 47,
   "id": "5d0010e1",
   "metadata": {
    "execution": {
     "iopub.execute_input": "2025-03-17T00:50:15.506138Z",
     "iopub.status.busy": "2025-03-17T00:50:15.505776Z",
     "iopub.status.idle": "2025-03-17T00:50:16.979253Z",
     "shell.execute_reply": "2025-03-17T00:50:16.978072Z"
    },
    "papermill": {
     "duration": 1.497506,
     "end_time": "2025-03-17T00:50:16.981253",
     "exception": false,
     "start_time": "2025-03-17T00:50:15.483747",
     "status": "completed"
    },
    "tags": []
   },
   "outputs": [
    {
     "data": {
      "image/png": "[encoded data removed]",
      "text/plain": [
       "<Figure size 1200x600 with 1 Axes>"
      ]
     },
     "metadata": {},
     "output_type": "display_data"
    }
   ],
   "source": [
    "# Group by weather condition and calculate mean severity\n",
    "weather_severity = df.groupby(\"Weather_Condition\")[\"Severity\"].mean().sort_values()\n",
    "\n",
    "# Plot bar chart\n",
    "plt.figure(figsize=(12,6))\n",
    "sns.barplot(x=weather_severity.values, y=weather_severity.index, palette=\"coolwarm\")\n",
    "\n",
    "# Labels and title\n",
    "plt.xlabel(\"Average Severity\", fontsize=12)\n",
    "plt.ylabel(\"Weather Condition\", fontsize=12)\n",
    "plt.title(\"Average Accident Severity by Weather Condition\", fontsize=15)\n",
    "plt.show()"
   ]
  },
  {
   "cell_type": "markdown",
   "id": "c62fef98",
   "metadata": {
    "papermill": {
     "duration": 0.022915,
     "end_time": "2025-03-17T00:50:17.026739",
     "exception": false,
     "start_time": "2025-03-17T00:50:17.003824",
     "status": "completed"
    },
    "tags": []
   },
   "source": [
    "##### So  overcast weather is more likely to have more  severity accidents "
   ]
  },
  {
   "cell_type": "markdown",
   "id": "c75f010b",
   "metadata": {
    "papermill": {
     "duration": 0.02163,
     "end_time": "2025-03-17T00:50:17.069959",
     "exception": false,
     "start_time": "2025-03-17T00:50:17.048329",
     "status": "completed"
    },
    "tags": []
   },
   "source": [
    "# Question 3: What time of day has the highest number of accidents?"
   ]
  },
  {
   "cell_type": "code",
   "execution_count": 48,
   "id": "40dec0d0",
   "metadata": {
    "execution": {
     "iopub.execute_input": "2025-03-17T00:50:17.115109Z",
     "iopub.status.busy": "2025-03-17T00:50:17.114702Z",
     "iopub.status.idle": "2025-03-17T00:50:17.122771Z",
     "shell.execute_reply": "2025-03-17T00:50:17.121622Z"
    },
    "papermill": {
     "duration": 0.033181,
     "end_time": "2025-03-17T00:50:17.124800",
     "exception": false,
     "start_time": "2025-03-17T00:50:17.091619",
     "status": "completed"
    },
    "tags": []
   },
   "outputs": [
    {
     "data": {
      "text/plain": [
       "2          Night\n",
       "3          Night\n",
       "4            Day\n",
       "5            Day\n",
       "6            Day\n",
       "           ...  \n",
       "7728389      Day\n",
       "7728390      Day\n",
       "7728391      Day\n",
       "7728392      Day\n",
       "7728393      Day\n",
       "Name: Sunrise_Sunset, Length: 6968156, dtype: object"
      ]
     },
     "execution_count": 48,
     "metadata": {},
     "output_type": "execute_result"
    }
   ],
   "source": [
    "# we can use this column\n",
    "df[\"Sunrise_Sunset\"]"
   ]
  },
  {
   "cell_type": "code",
   "execution_count": 49,
   "id": "f76f42b1",
   "metadata": {
    "execution": {
     "iopub.execute_input": "2025-03-17T00:50:17.170123Z",
     "iopub.status.busy": "2025-03-17T00:50:17.169757Z",
     "iopub.status.idle": "2025-03-17T00:50:21.051829Z",
     "shell.execute_reply": "2025-03-17T00:50:21.050599Z"
    },
    "papermill": {
     "duration": 3.907043,
     "end_time": "2025-03-17T00:50:21.053715",
     "exception": false,
     "start_time": "2025-03-17T00:50:17.146672",
     "status": "completed"
    },
    "tags": []
   },
   "outputs": [
    {
     "data": {
      "image/png": "[encoded data removed]",
      "text/plain": [
       "<Figure size 800x500 with 1 Axes>"
      ]
     },
     "metadata": {},
     "output_type": "display_data"
    }
   ],
   "source": [
    "sns.set_style(\"whitegrid\")\n",
    "plt.figure(figsize=(8, 5))\n",
    "sns.countplot(x=df['Sunrise_Sunset'], palette=\"coolwarm\")\n",
    "plt.xlabel(\"Time of Day\")\n",
    "plt.ylabel(\"Number of Accidents\")\n",
    "plt.title(\"Accident Frequency: Day vs Night\")\n",
    "\n",
    "plt.show()"
   ]
  },
  {
   "cell_type": "markdown",
   "id": "e31cd2f6",
   "metadata": {
    "papermill": {
     "duration": 0.021764,
     "end_time": "2025-03-17T00:50:21.097931",
     "exception": false,
     "start_time": "2025-03-17T00:50:21.076167",
     "status": "completed"
    },
    "tags": []
   },
   "source": [
    "#### as you can see its day time that has freq accidents "
   ]
  },
  {
   "cell_type": "markdown",
   "id": "7a5c4ce6",
   "metadata": {
    "papermill": {
     "duration": 0.021577,
     "end_time": "2025-03-17T00:50:21.141568",
     "exception": false,
     "start_time": "2025-03-17T00:50:21.119991",
     "status": "completed"
    },
    "tags": []
   },
   "source": [
    "# Question 4: Which state experience the most accidents?"
   ]
  },
  {
   "cell_type": "markdown",
   "id": "f621d4e1",
   "metadata": {
    "papermill": {
     "duration": 0.02179,
     "end_time": "2025-03-17T00:50:21.185557",
     "exception": false,
     "start_time": "2025-03-17T00:50:21.163767",
     "status": "completed"
    },
    "tags": []
   },
   "source": [
    "##### by prevoius analyzing we did in question 1 its Maimi that is the most stat"
   ]
  },
  {
   "cell_type": "markdown",
   "id": "66f319d4",
   "metadata": {
    "papermill": {
     "duration": 0.021778,
     "end_time": "2025-03-17T00:50:21.229325",
     "exception": false,
     "start_time": "2025-03-17T00:50:21.207547",
     "status": "completed"
    },
    "tags": []
   },
   "source": [
    "# Question 5: How does visibility affect accident severity ?"
   ]
  },
  {
   "cell_type": "code",
   "execution_count": 50,
   "id": "072318fa",
   "metadata": {
    "execution": {
     "iopub.execute_input": "2025-03-17T00:50:21.275032Z",
     "iopub.status.busy": "2025-03-17T00:50:21.274687Z",
     "iopub.status.idle": "2025-03-17T00:50:21.323762Z",
     "shell.execute_reply": "2025-03-17T00:50:21.322630Z"
    },
    "papermill": {
     "duration": 0.074059,
     "end_time": "2025-03-17T00:50:21.325551",
     "exception": false,
     "start_time": "2025-03-17T00:50:21.251492",
     "status": "completed"
    },
    "tags": []
   },
   "outputs": [
    {
     "data": {
      "text/plain": [
       "array([2, 3, 1, 4])"
      ]
     },
     "execution_count": 50,
     "metadata": {},
     "output_type": "execute_result"
    }
   ],
   "source": [
    "df[\"Severity\"].unique()"
   ]
  },
  {
   "cell_type": "code",
   "execution_count": 51,
   "id": "b059b9bb",
   "metadata": {
    "execution": {
     "iopub.execute_input": "2025-03-17T00:50:21.372537Z",
     "iopub.status.busy": "2025-03-17T00:50:21.372127Z",
     "iopub.status.idle": "2025-03-17T00:50:21.510809Z",
     "shell.execute_reply": "2025-03-17T00:50:21.509538Z"
    },
    "papermill": {
     "duration": 0.164421,
     "end_time": "2025-03-17T00:50:21.512778",
     "exception": false,
     "start_time": "2025-03-17T00:50:21.348357",
     "status": "completed"
    },
    "tags": []
   },
   "outputs": [],
   "source": [
    "# so it ranges between 1 to 4 \n",
    "# we will make it categorial \n",
    "'''\n",
    "Bin Visibility into categories:\n",
    "\n",
    "Low Visibility (0-1 mi)\n",
    "Moderate Visibility (1-5 mi)\n",
    "High Visibility (5-10 mi)\n",
    "Very High Visibility (>10 mi)\n",
    "'''\n",
    "\n",
    "bins = [0, 1, 5, 10, df['Visibility(mi)'].max()]\n",
    "labels = [\"Low (0-1 mi)\", \"Moderate (1-5 mi)\", \"High (5-10 mi)\", \"Very High (>10 mi)\"]\n",
    "df['Visibility_Category'] = pd.cut(df['Visibility(mi)'], bins=bins, labels=labels)\n"
   ]
  },
  {
   "cell_type": "code",
   "execution_count": 52,
   "id": "e0a77840",
   "metadata": {
    "execution": {
     "iopub.execute_input": "2025-03-17T00:50:21.559028Z",
     "iopub.status.busy": "2025-03-17T00:50:21.558618Z",
     "iopub.status.idle": "2025-03-17T00:50:22.446336Z",
     "shell.execute_reply": "2025-03-17T00:50:22.445085Z"
    },
    "papermill": {
     "duration": 0.912797,
     "end_time": "2025-03-17T00:50:22.448086",
     "exception": false,
     "start_time": "2025-03-17T00:50:21.535289",
     "status": "completed"
    },
    "tags": []
   },
   "outputs": [
    {
     "name": "stderr",
     "output_type": "stream",
     "text": [
      "/usr/local/lib/python3.10/dist-packages/seaborn/categorical.py:641: FutureWarning: The default of observed=False is deprecated and will be changed to True in a future version of pandas. Pass observed=False to retain current behavior or observed=True to adopt the future default and silence this warning.\n",
      "  grouped_vals = vals.groupby(grouper)\n",
      "/usr/local/lib/python3.10/dist-packages/seaborn/categorical.py:641: FutureWarning: The default of observed=False is deprecated and will be changed to True in a future version of pandas. Pass observed=False to retain current behavior or observed=True to adopt the future default and silence this warning.\n",
      "  grouped_vals = vals.groupby(grouper)\n"
     ]
    },
    {
     "data": {
      "image/png": "[encoded data removed]",
      "text/plain": [
       "<Figure size 1200x600 with 1 Axes>"
      ]
     },
     "metadata": {},
     "output_type": "display_data"
    }
   ],
   "source": [
    "sns.set_style(\"whitegrid\")\n",
    "plt.figure(figsize=(12, 6))\n",
    "sns.countplot(x=df['Visibility_Category'], hue=df['Severity'], palette=\"coolwarm\")\n",
    "plt.xlabel(\"Visibility Category\")\n",
    "plt.ylabel(\"Number of Accidents\")\n",
    "plt.title(\"Accident Severity Distribution Across Visibility Levels\")\n",
    "plt.legend(title=\"Severity Level\")\n",
    "\n",
    "plt.show()"
   ]
  },
  {
   "cell_type": "markdown",
   "id": "be2e5b09",
   "metadata": {
    "papermill": {
     "duration": 0.026043,
     "end_time": "2025-03-17T00:50:22.498752",
     "exception": false,
     "start_time": "2025-03-17T00:50:22.472709",
     "status": "completed"
    },
    "tags": []
   },
   "source": [
    "#### So in High Visibility the severity  is on level (2) "
   ]
  },
  {
   "cell_type": "markdown",
   "id": "4be0bfe6",
   "metadata": {
    "papermill": {
     "duration": 0.022668,
     "end_time": "2025-03-17T00:50:22.545687",
     "exception": false,
     "start_time": "2025-03-17T00:50:22.523019",
     "status": "completed"
    },
    "tags": []
   },
   "source": [
    "# Question 6: Is there a correlation between wind speed and accident severity?"
   ]
  },
  {
   "cell_type": "code",
   "execution_count": 53,
   "id": "642c4c7a",
   "metadata": {
    "execution": {
     "iopub.execute_input": "2025-03-17T00:50:22.594466Z",
     "iopub.status.busy": "2025-03-17T00:50:22.594121Z",
     "iopub.status.idle": "2025-03-17T00:50:39.341283Z",
     "shell.execute_reply": "2025-03-17T00:50:39.340162Z"
    },
    "papermill": {
     "duration": 16.774182,
     "end_time": "2025-03-17T00:50:39.343378",
     "exception": false,
     "start_time": "2025-03-17T00:50:22.569196",
     "status": "completed"
    },
    "tags": []
   },
   "outputs": [
    {
     "data": {
      "image/png": "[encoded data removed]",
      "text/plain": [
       "<Figure size 1200x600 with 1 Axes>"
      ]
     },
     "metadata": {},
     "output_type": "display_data"
    }
   ],
   "source": [
    "# we will check that like before with graphs \n",
    "# and btw most of the graph code os from stack overflow or copied fron matplotlib/seaborn documentation \n",
    "# cant remember every code yo.\n",
    "sns.set_style(\"whitegrid\")\n",
    "plt.figure(figsize=(12, 6))\n",
    "sns.scatterplot(x=df['Wind_Speed(mph)'], y=df['Severity'], alpha=0.5, color=\"blue\")\n",
    "\n",
    "plt.xlabel(\"Wind Speed (mph)\")\n",
    "plt.ylabel(\"Accident Severity\")\n",
    "plt.title(\"Wind Speed vs Accident Severity\")\n",
    "\n",
    "plt.show()"
   ]
  },
  {
   "cell_type": "code",
   "execution_count": 54,
   "id": "86cc5f66",
   "metadata": {
    "execution": {
     "iopub.execute_input": "2025-03-17T00:50:39.393795Z",
     "iopub.status.busy": "2025-03-17T00:50:39.393387Z",
     "iopub.status.idle": "2025-03-17T00:50:41.101813Z",
     "shell.execute_reply": "2025-03-17T00:50:41.100751Z"
    },
    "papermill": {
     "duration": 1.735245,
     "end_time": "2025-03-17T00:50:41.103554",
     "exception": false,
     "start_time": "2025-03-17T00:50:39.368309",
     "status": "completed"
    },
    "tags": []
   },
   "outputs": [
    {
     "data": {
      "text/html": [
       "<div>\n",
       "<style scoped>\n",
       "    .dataframe tbody tr th:only-of-type {\n",
       "        vertical-align: middle;\n",
       "    }\n",
       "\n",
       "    .dataframe tbody tr th {\n",
       "        vertical-align: top;\n",
       "    }\n",
       "\n",
       "    .dataframe thead th {\n",
       "        text-align: right;\n",
       "    }\n",
       "</style>\n",
       "<table border=\"1\" class=\"dataframe\">\n",
       "  <thead>\n",
       "    <tr style=\"text-align: right;\">\n",
       "      <th></th>\n",
       "      <th>Wind_Speed(mph)</th>\n",
       "      <th>Severity</th>\n",
       "    </tr>\n",
       "  </thead>\n",
       "  <tbody>\n",
       "    <tr>\n",
       "      <th>Wind_Speed(mph)</th>\n",
       "      <td>1.000000</td>\n",
       "      <td>0.050101</td>\n",
       "    </tr>\n",
       "    <tr>\n",
       "      <th>Severity</th>\n",
       "      <td>0.050101</td>\n",
       "      <td>1.000000</td>\n",
       "    </tr>\n",
       "  </tbody>\n",
       "</table>\n",
       "</div>"
      ],
      "text/plain": [
       "                 Wind_Speed(mph)  Severity\n",
       "Wind_Speed(mph)         1.000000  0.050101\n",
       "Severity                0.050101  1.000000"
      ]
     },
     "execution_count": 54,
     "metadata": {},
     "output_type": "execute_result"
    }
   ],
   "source": [
    "# maybe try corr function\n",
    "correlation = df[['Wind_Speed(mph)', 'Severity']].corr(method=\"spearman\")\n",
    "correlation\n"
   ]
  },
  {
   "cell_type": "code",
   "execution_count": 55,
   "id": "db91dea2",
   "metadata": {
    "execution": {
     "iopub.execute_input": "2025-03-17T00:50:41.153767Z",
     "iopub.status.busy": "2025-03-17T00:50:41.153187Z",
     "iopub.status.idle": "2025-03-17T00:50:41.422845Z",
     "shell.execute_reply": "2025-03-17T00:50:41.421596Z"
    },
    "papermill": {
     "duration": 0.296865,
     "end_time": "2025-03-17T00:50:41.424808",
     "exception": false,
     "start_time": "2025-03-17T00:50:41.127943",
     "status": "completed"
    },
    "tags": []
   },
   "outputs": [
    {
     "data": {
      "text/html": [
       "<div>\n",
       "<style scoped>\n",
       "    .dataframe tbody tr th:only-of-type {\n",
       "        vertical-align: middle;\n",
       "    }\n",
       "\n",
       "    .dataframe tbody tr th {\n",
       "        vertical-align: top;\n",
       "    }\n",
       "\n",
       "    .dataframe thead th {\n",
       "        text-align: right;\n",
       "    }\n",
       "</style>\n",
       "<table border=\"1\" class=\"dataframe\">\n",
       "  <thead>\n",
       "    <tr style=\"text-align: right;\">\n",
       "      <th></th>\n",
       "      <th>Wind_Speed(mph)</th>\n",
       "      <th>Severity</th>\n",
       "    </tr>\n",
       "  </thead>\n",
       "  <tbody>\n",
       "    <tr>\n",
       "      <th>Wind_Speed(mph)</th>\n",
       "      <td>1.000000</td>\n",
       "      <td>0.042706</td>\n",
       "    </tr>\n",
       "    <tr>\n",
       "      <th>Severity</th>\n",
       "      <td>0.042706</td>\n",
       "      <td>1.000000</td>\n",
       "    </tr>\n",
       "  </tbody>\n",
       "</table>\n",
       "</div>"
      ],
      "text/plain": [
       "                 Wind_Speed(mph)  Severity\n",
       "Wind_Speed(mph)         1.000000  0.042706\n",
       "Severity                0.042706  1.000000"
      ]
     },
     "execution_count": 55,
     "metadata": {},
     "output_type": "execute_result"
    }
   ],
   "source": [
    "# let me see the other method (Pearson)\n",
    "correlation = df[['Wind_Speed(mph)', 'Severity']].corr(method=\"pearson\")\n",
    "correlation\n"
   ]
  },
  {
   "cell_type": "markdown",
   "id": "d6c2ead6",
   "metadata": {
    "papermill": {
     "duration": 0.023921,
     "end_time": "2025-03-17T00:50:41.473870",
     "exception": false,
     "start_time": "2025-03-17T00:50:41.449949",
     "status": "completed"
    },
    "tags": []
   },
   "source": [
    "##### ok I will take the spearman method, by this calculations the corr > than zero slightly and positive they are correlated in a weak way I guess "
   ]
  }
 ],
 "metadata": {
  "kaggle": {
   "accelerator": "none",
   "dataSources": [
    {
     "datasetId": 199387,
     "sourceId": 5793796,
     "sourceType": "datasetVersion"
    }
   ],
   "dockerImageVersionId": 30886,
   "isGpuEnabled": false,
   "isInternetEnabled": true,
   "language": "python",
   "sourceType": "notebook"
  },
  "kernelspec": {
   "display_name": "Python 3",
   "language": "python",
   "name": "python3"
  },
  "language_info": {
   "codemirror_mode": {
    "name": "ipython",
    "version": 3
   },
   "file_extension": ".py",
   "mimetype": "text/x-python",
   "name": "python",
   "nbconvert_exporter": "python",
   "pygments_lexer": "ipython3",
   "version": "3.10.12"
  },
  "papermill": {
   "default_parameters": {},
   "duration": 421.008456,
   "end_time": "2025-03-17T00:50:44.421091",
   "environment_variables": {},
   "exception": null,
   "input_path": "__notebook__.ipynb",
   "output_path": "__notebook__.ipynb",
   "parameters": {},
   "start_time": "2025-03-17T00:43:43.412635",
   "version": "2.6.0"
  }
 },
 "nbformat": 4,
 "nbformat_minor": 5
}
